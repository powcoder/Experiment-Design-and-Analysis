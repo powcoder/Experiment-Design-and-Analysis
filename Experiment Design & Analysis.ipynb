{
 "cells": [
  {
   "cell_type": "code",
   "execution_count": null,
   "metadata": {
    "deletable": false,
    "editable": false,
    "nbgrader": {
     "cell_type": "code",
     "checksum": "25640fd4ae5d5156137643ea09550d0f",
     "grade": false,
     "grade_id": "version",
     "locked": true,
     "schema_version": 3,
     "solution": false
    }
   },
   "outputs": [],
   "source": [
    "version = \"REPLACE_PACKAGE_VERSION\""
   ]
  },
  {
   "cell_type": "markdown",
   "metadata": {
    "deletable": false,
    "editable": false,
    "nbgrader": {
     "cell_type": "markdown",
     "checksum": "3490d023f70f6bc1d1e8dc8e5e5d83c7",
     "grade": false,
     "grade_id": "cell-3d3cb5fc3b432291",
     "locked": true,
     "schema_version": 3,
     "solution": false
    }
   },
   "source": [
    "## Experiment Design and Analysis\n",
    "## School of Information, University of Michigan\n",
    "\n",
    "## Part 1:\n",
    "- 1. What are experiments?\n",
    "- 2. Experimental Design\n",
    "- 3. Lab vs. Field Experiments\n",
    "- 4. Online Field Experiments\n",
    "\n",
    "## Overview\n",
    "### The objective of this part is to:\n",
    "\n",
    "- Apply theory of experiment design and knowledge of analysis techniques to real experiment data.\n",
    "\n",
    "### Resources:\n",
    "- StatsModels\n",
    "    - We recommend using a python library called [StatsModels](https://www.statsmodels.org/stable/index.html) for data analysis\n",
    "\n",
    "- Dataset used in this part: Fixed-Price Auction data [download csv file](assets/Part1_data.csv)\n",
    "    - Source for dataset: [Chen, Y., et al. Sealed bid auctions with ambiguity: Theory and experiments. (2007).](https://www.sciencedirect.com/science/article/pii/S0022053107000178)"
   ]
  },
  {
   "cell_type": "code",
   "execution_count": 113,
   "metadata": {
    "deletable": false,
    "editable": false,
    "nbgrader": {
     "cell_type": "code",
     "checksum": "a5a64b823a6e5268d6029f3f2b2939b7",
     "grade": false,
     "grade_id": "cell-0dc517f6cfff019b",
     "locked": true,
     "schema_version": 3,
     "solution": false
    },
    "tags": []
   },
   "outputs": [],
   "source": [
    "import pandas as pd\n",
    "import statsmodels.api as sm\n",
    "import statsmodels.stats.api as sms\n",
    "from scipy import stats\n",
    "#you may or may not use all of the above libraries, and that is OK!\n",
    "data = pd.read_csv('assets/Part1_data.csv') #Data for this part"
   ]
  },
  {
   "cell_type": "markdown",
   "metadata": {
    "deletable": false,
    "editable": false,
    "nbgrader": {
     "cell_type": "markdown",
     "checksum": "46368bea4171ee7b87ebdc910f962855",
     "grade": false,
     "grade_id": "cell-b7148bcb8a319d23",
     "locked": true,
     "schema_version": 3,
     "solution": false
    }
   },
   "source": [
    "## Part A"
   ]
  },
  {
   "cell_type": "markdown",
   "metadata": {
    "deletable": false,
    "editable": false,
    "nbgrader": {
     "cell_type": "markdown",
     "checksum": "25c9e4b683331c3c0ae38c24e51dc131",
     "grade": false,
     "grade_id": "part_a_inst_text",
     "locked": true,
     "schema_version": 3,
     "solution": false
    }
   },
   "source": [
    "Suppose subjects were randomly assigned to two treatment groups. We want to know if the randomization was properly applied to these groups. In other words, we want to know if the proportion of participants in these demographic groups are different between the two treatments."
   ]
  },
  {
   "cell_type": "markdown",
   "metadata": {
    "deletable": false,
    "editable": false,
    "nbgrader": {
     "cell_type": "markdown",
     "checksum": "f5a688439ab20bbaee897cbecd205c23",
     "grade": false,
     "grade_id": "part_a_inst_text_1",
     "locked": true,
     "schema_version": 3,
     "solution": false
    }
   },
   "source": [
    "1. To determine if the randomization worked, for each of the two treatments, modify the following ```stats_calculator``` function so that it can input the ```data``` dataframe and tabulates the mean, standard deviation, minimum and maximum of the following variables: female, age, number of siblings, white, asian, african american, hispanic, and other ethnicities. (6 points)\n"
   ]
  },
  {
   "cell_type": "code",
   "execution_count": 29,
   "metadata": {
    "deletable": false,
    "nbgrader": {
     "cell_type": "code",
     "checksum": "129796a4de6144bc2553b1b1cd0cf763",
     "grade": false,
     "grade_id": "stats_calculation",
     "locked": false,
     "schema_version": 3,
     "solution": true
    },
    "tags": []
   },
   "outputs": [],
   "source": [
    "import numpy as np\n",
    "def stats_calculator(provided_data):\n",
    "    \"\"\"\n",
    "    Write the function so that it fills-in the mean, standard deviation, \n",
    "    minimum and maximum of the following variables: Female, Age, \n",
    "    Number of siblings, White, Asian, African American, Hispanic, and Other ethnicities.\n",
    "    \n",
    "    It should return a dataframe with these calculations based on the partially-completed dataframe below.\n",
    "    \n",
    "    \"\"\"\n"
   ]
  },
  {
   "cell_type": "markdown",
   "metadata": {
    "deletable": false,
    "editable": false,
    "nbgrader": {
     "cell_type": "markdown",
     "checksum": "6de477a2ee0efb9a3cc0daa7dbb50cad",
     "grade": false,
     "grade_id": "part_a_check_text",
     "locked": true,
     "schema_version": 3,
     "solution": false
    }
   },
   "source": [
    "Your function should return a dataframe with each of the variables and their completed statistics. Check that it does:"
   ]
  },
  {
   "cell_type": "code",
   "execution_count": 30,
   "metadata": {
    "tags": []
   },
   "outputs": [
    {
     "data": {
      "text/html": [
       "<div>\n",
       "<style scoped>\n",
       "    .dataframe tbody tr th:only-of-type {\n",
       "        vertical-align: middle;\n",
       "    }\n",
       "\n",
       "    .dataframe tbody tr th {\n",
       "        vertical-align: top;\n",
       "    }\n",
       "\n",
       "    .dataframe thead th {\n",
       "        text-align: right;\n",
       "    }\n",
       "</style>\n",
       "<table border=\"1\" class=\"dataframe\">\n",
       "  <thead>\n",
       "    <tr style=\"text-align: right;\">\n",
       "      <th></th>\n",
       "      <th>variable</th>\n",
       "      <th>mean</th>\n",
       "      <th>std. dev.</th>\n",
       "      <th>max</th>\n",
       "      <th>min</th>\n",
       "    </tr>\n",
       "  </thead>\n",
       "  <tbody>\n",
       "    <tr>\n",
       "      <th>0</th>\n",
       "      <td>female</td>\n",
       "      <td>0.64</td>\n",
       "      <td>0.48</td>\n",
       "      <td>1</td>\n",
       "      <td>0</td>\n",
       "    </tr>\n",
       "    <tr>\n",
       "      <th>1</th>\n",
       "      <td>age</td>\n",
       "      <td>22.51</td>\n",
       "      <td>3.49</td>\n",
       "      <td>31</td>\n",
       "      <td>18</td>\n",
       "    </tr>\n",
       "    <tr>\n",
       "      <th>2</th>\n",
       "      <td>siblings</td>\n",
       "      <td>1.64</td>\n",
       "      <td>1.2</td>\n",
       "      <td>5</td>\n",
       "      <td>0</td>\n",
       "    </tr>\n",
       "    <tr>\n",
       "      <th>3</th>\n",
       "      <td>white</td>\n",
       "      <td>0.47</td>\n",
       "      <td>0.5</td>\n",
       "      <td>1.0</td>\n",
       "      <td>0.0</td>\n",
       "    </tr>\n",
       "    <tr>\n",
       "      <th>4</th>\n",
       "      <td>asian</td>\n",
       "      <td>0.27</td>\n",
       "      <td>0.44</td>\n",
       "      <td>1.0</td>\n",
       "      <td>0.0</td>\n",
       "    </tr>\n",
       "    <tr>\n",
       "      <th>5</th>\n",
       "      <td>african</td>\n",
       "      <td>0.11</td>\n",
       "      <td>0.31</td>\n",
       "      <td>1.0</td>\n",
       "      <td>0.0</td>\n",
       "    </tr>\n",
       "    <tr>\n",
       "      <th>6</th>\n",
       "      <td>hispanic</td>\n",
       "      <td>0.08</td>\n",
       "      <td>0.25</td>\n",
       "      <td>1.0</td>\n",
       "      <td>0.0</td>\n",
       "    </tr>\n",
       "    <tr>\n",
       "      <th>7</th>\n",
       "      <td>other</td>\n",
       "      <td>0.08</td>\n",
       "      <td>0.27</td>\n",
       "      <td>1</td>\n",
       "      <td>0</td>\n",
       "    </tr>\n",
       "  </tbody>\n",
       "</table>\n",
       "</div>"
      ],
      "text/plain": [
       "   variable   mean std. dev.  max  min\n",
       "0    female   0.64      0.48    1    0\n",
       "1       age  22.51      3.49   31   18\n",
       "2  siblings   1.64       1.2    5    0\n",
       "3     white   0.47       0.5  1.0  0.0\n",
       "4     asian   0.27      0.44  1.0  0.0\n",
       "5   african   0.11      0.31  1.0  0.0\n",
       "6  hispanic   0.08      0.25  1.0  0.0\n",
       "7     other   0.08      0.27    1    0"
      ]
     },
     "execution_count": 30,
     "metadata": {},
     "output_type": "execute_result"
    }
   ],
   "source": [
    "stats_calculator(data)"
   ]
  },
  {
   "cell_type": "code",
   "execution_count": 31,
   "metadata": {
    "deletable": false,
    "editable": false,
    "nbgrader": {
     "cell_type": "code",
     "checksum": "7f889f748862e1b71f993bd192d9328b",
     "grade": true,
     "grade_id": "correct_stats1",
     "locked": false,
     "points": 2,
     "schema_version": 3,
     "solution": false
    },
    "tags": []
   },
   "outputs": [],
   "source": [
    "\"\"\"Check that the function above outputs the (rounded) statistics\"\"\"\n",
    "assert stats_calculator(data).iloc[0][1] == 0.64, \"Part A #1 female mean value differs\"\n",
    "assert stats_calculator(data).iloc[1][2] == 3.49, \"Part A #1 age std. dev value differs\""
   ]
  },
  {
   "cell_type": "code",
   "execution_count": 32,
   "metadata": {
    "deletable": false,
    "editable": false,
    "nbgrader": {
     "cell_type": "code",
     "checksum": "30aeb93f489def88a57a39f282370b2c",
     "grade": true,
     "grade_id": "correct_stats2",
     "locked": true,
     "points": 2,
     "schema_version": 3,
     "solution": false
    },
    "tags": []
   },
   "outputs": [
    {
     "data": {
      "text/plain": [
       "'Hidden test Part A: Check function abv outputs (rounded) statistics'"
      ]
     },
     "execution_count": 32,
     "metadata": {},
     "output_type": "execute_result"
    }
   ],
   "source": [
    "\"\"\"Hidden test Part A: Check function abv outputs (rounded) statistics\"\"\"\n",
    "# Hidden tests"
   ]
  },
  {
   "cell_type": "code",
   "execution_count": 33,
   "metadata": {
    "deletable": false,
    "editable": false,
    "nbgrader": {
     "cell_type": "code",
     "checksum": "811c9e7d9e0a1a25bdbbf4b0acaa1117",
     "grade": true,
     "grade_id": "correct_stats3",
     "locked": true,
     "points": 2,
     "schema_version": 3,
     "solution": false
    },
    "tags": []
   },
   "outputs": [
    {
     "data": {
      "text/plain": [
       "'Part A: Check function abv outputs (rounded) statistics'"
      ]
     },
     "execution_count": 33,
     "metadata": {},
     "output_type": "execute_result"
    }
   ],
   "source": [
    "\"\"\"Part A: Check function abv outputs (rounded) statistics\"\"\"\n",
    "# Hidden tests"
   ]
  },
  {
   "cell_type": "markdown",
   "metadata": {
    "deletable": false,
    "editable": false,
    "nbgrader": {
     "cell_type": "markdown",
     "checksum": "7b68174f310a28d76e14324e245cc4cd",
     "grade": false,
     "grade_id": "cell-df66338ec7ec0cd6",
     "locked": true,
     "schema_version": 3,
     "solution": false
    }
   },
   "source": [
    "## Part B (4 points)"
   ]
  },
  {
   "cell_type": "markdown",
   "metadata": {
    "deletable": false,
    "editable": false,
    "nbgrader": {
     "cell_type": "markdown",
     "checksum": "02a36a9c8ae7ee435479dd039cc585b8",
     "grade": false,
     "grade_id": "part_b_inst_text",
     "locked": true,
     "schema_version": 3,
     "solution": false
    }
   },
   "source": [
    "We can also use a more objective measure to identify if our treatment groups were properly randomized."
   ]
  },
  {
   "cell_type": "markdown",
   "metadata": {
    "deletable": false,
    "editable": false,
    "nbgrader": {
     "cell_type": "markdown",
     "checksum": "c2eaeefdb1a38a4c8f68ed5d1a5f9926",
     "grade": false,
     "grade_id": "part_b_inst_text_1",
     "locked": true,
     "schema_version": 3,
     "solution": false
    }
   },
   "source": [
    "1. Using a __t-test__ (make sure you use the _correct_ type of t-test) and the ```data``` dataframe again, analyze the differences between the two treatment groups (__k1_8_exp_lot__ and __k1_8_lot_exp__) for the female, age, and hispanic demographic variables by completing the following ```objective_randomization``` function. (4 points)\n",
    "\n",
    "**Round any calculations to the hundredth decimal. Do not use percentages.**"
   ]
  },
  {
   "cell_type": "code",
   "execution_count": 34,
   "metadata": {
    "deletable": false,
    "nbgrader": {
     "cell_type": "code",
     "checksum": "af078c48bd72087897ebf9c139725892",
     "grade": false,
     "grade_id": "ttest_calculation",
     "locked": false,
     "schema_version": 3,
     "solution": true
    },
    "tags": []
   },
   "outputs": [],
   "source": [
    "def objective_randomization(provided_data):\n",
    "    \"\"\"\n",
    "    \n",
    "    Complete the function that takes the provided data and runs a t-test on the \n",
    "    female, age, and hispanic demographic variables between the two treatments\n",
    "    and outputs the results in the following partially-completed dataframe.\n",
    "    Round your results to the nearest hundredth.\n",
    "    Tip: you can choose to use either the statsmodels stats library or the scipy stats library to calculate the t-statistic and p-value.\n",
    "    \n",
    "    \"\"\"\n",
    "\n",
    "    "
   ]
  },
  {
   "cell_type": "markdown",
   "metadata": {
    "deletable": false,
    "editable": false,
    "nbgrader": {
     "cell_type": "markdown",
     "checksum": "27916a6f42112e59c87b30659114fab9",
     "grade": false,
     "grade_id": "part_b_check_text",
     "locked": true,
     "schema_version": 3,
     "solution": false
    }
   },
   "source": [
    "Your function should return a dataframe with each of the variables and their completed t-statistic and p-value across the treatments. \n",
    "\n",
    "Check that it does:"
   ]
  },
  {
   "cell_type": "code",
   "execution_count": 38,
   "metadata": {
    "deletable": false,
    "editable": false,
    "nbgrader": {
     "cell_type": "code",
     "checksum": "7760322f71b151f3b1b4112edad72c9a",
     "grade": true,
     "grade_id": "correct_tvals",
     "locked": false,
     "points": 1,
     "schema_version": 3,
     "solution": false
    },
    "tags": []
   },
   "outputs": [],
   "source": [
    "\"\"\"Check that the function above outputs the required statistics\"\"\"\n",
    "result = objective_randomization(data)\n",
    "assert abs(result.iloc[0][1]) == 0.23, \"checking the value of the female t-statistic\""
   ]
  },
  {
   "cell_type": "code",
   "execution_count": 39,
   "metadata": {
    "deletable": false,
    "editable": false,
    "nbgrader": {
     "cell_type": "code",
     "checksum": "ce060869734e99bc740ca3f242316d5b",
     "grade": true,
     "grade_id": "correct_ttest",
     "locked": true,
     "points": 3,
     "schema_version": 3,
     "solution": false
    },
    "tags": []
   },
   "outputs": [
    {
     "data": {
      "text/plain": [
       "'Part B # 1: Check function abv outputs required statistics'"
      ]
     },
     "execution_count": 39,
     "metadata": {},
     "output_type": "execute_result"
    }
   ],
   "source": [
    "\"\"\"Part B # 1: Check function abv outputs required statistics\"\"\"\n",
    "# Hidden tests"
   ]
  },
  {
   "cell_type": "markdown",
   "metadata": {},
   "source": [
    "## Part 2:\n",
    "\n",
    "\n",
    "## Overview\n",
    "### The objective of this part is to:\n",
    "\n",
    "- Apply theory of experiment design and knowledge of analysis techniques to real experiment data.\n",
    "\n",
    "\n",
    "### Resources:\n",
    "- StatsModels, Scipy.stats, Numpy\n",
    "    - We recommend using two python libraries called [StatsModels](https://www.statsmodels.org/stable/index.html) and [Scipy.stats](https://docs.scipy.org/doc/scipy/reference/tutorial/stats.html) for data analysis. For this dataset, we'll be using [Numpy](https://numpy.org/devdocs/reference/index.html) as well.\n",
    "\n",
    "- Optional Reading: [Holt C.A, & Laury S.K. Risk Aversion and Incentive Effects. (2002).](https://www.jstor.org/stable/3083270)\n",
    "\n",
    "\n",
    "Datasets used in this part\n",
    "- Trust data [download csv file](assets/Part2_data1.csv)\n",
    "- Fixed-Price Auction data [download csv file](assets/Part2_data2.csv)\n",
    "    - Source for dataset: [Chen, Y., et al. Sealed bid auctions with ambiguity: Theory and experiments. (2007).](https://www.sciencedirect.com/science/article/pii/S0022053107000178)"
   ]
  },
  {
   "cell_type": "code",
   "execution_count": 40,
   "metadata": {
    "tags": []
   },
   "outputs": [],
   "source": [
    "import pandas as pd\n",
    "import numpy as np\n",
    "import statsmodels.api as sm\n",
    "import statsmodels.stats.api as sms\n",
    "from scipy import stats\n",
    "#you may or may not use all of the above libraries, and that is OK!\n",
    "\n",
    "trust_data = pd.read_csv('assets/Part2_data1.csv') #Trust Game data for this part\n",
    "fpa_data = pd.read_csv('assets/Part2_data2.csv') #First-price auction data for this part - this is the same dataset from last part"
   ]
  },
  {
   "cell_type": "code",
   "execution_count": 41,
   "metadata": {
    "tags": []
   },
   "outputs": [
    {
     "name": "stdout",
     "output_type": "stream",
     "text": [
      "### Assignment Topic: Data analysis of a laboratory experiment on trust\n",
      "\n",
      "### Background:\n",
      "We upload data files from laboratory experiments conducted at the University of Michigan.\n",
      "\n",
      "Subjects are grouped in pairs, paired with one assigned the role of an investor and another a recipient.\n",
      "\n",
      "    - The investor holds a set amount of money and can choose to give any fraction of that amount to the recipient – or none.\n",
      "\n",
      "    - The amount given is multiplied by a set amount and the recipient can choose to give any fraction of the multiplied amount back to the investor – or none.\n",
      "\n",
      "The data given was collected from an experiment involving the Trust Game and it contains decisions from the “investors” and “recipients.”\n",
      "\n",
      "### Data:\n",
      "The Trust Game data has the following variables:\n",
      "   - Period: period which the game was held\n",
      "   - group #: pair the player was in\n",
      "   - player #: order or role the player had\n",
      "   - player role: first if investor, second if recipient\n",
      "   - decision type: INVEST if investor, RETURN if recipient\n",
      "   - decision: amount invested or returned\n",
      "   - payoff: if investor - amount kept + amount returned, if recipient - (3 * amount received) - amount returned\n",
      "### Assignment Topic: Data analysis of a laboratory experiment on first-price auction\n",
      "\n",
      "### Background:\n",
      "We upload data files from a laboratory experiment conducted at the University of Michigan.\n",
      "\n",
      "There are ten experimental sessions, with eight subjects per session. In this context, subjects are tasked with completing auction and lottery (Holt-Laury 2002) tasks in two orders.\n",
      "\n",
      "   - In five of the ten sessions, subjects first complete a lottery task, followed by 30 rounds of auctions.\n",
      "   - In the other five sessions, subjects first complete 30 rounds of auctions, followed by a lottery task.\n",
      "\n",
      "At the end of each session, subjects complete a demographics survey.\n",
      "\n",
      "### Data:\n",
      "\n",
      "The data has the following variables:\n",
      "   - treatment: the treatment received by the subject\n",
      "   - session: the session in which the data was collected in the experiment\n",
      "   - period: the period in the session (multiple periods per session)\n",
      "   - subject: unique identifier for each subject\n",
      "   - disttype: distribution type, high or low\n",
      "   - highdist: if the subjects' values are from the high distribution type\n",
      "   - lowdist: if the subjects' values are from the low distribution type\n",
      "   - group: group number\n",
      "   - v: value of the subjects' object\n",
      "   - b: how much the subjects bid for the object\n",
      "   - highbid: the highest bid in the group\n",
      "   - lowbid: the lowest bid in the group\n",
      "   - buy: whether subjects win the auction\n",
      "   - buy_yes: if subjects win the auction\n",
      "   - buy_no: if subjects do not win the auction\n",
      "   - profit: profit for the period\n",
      "   - cumprof: accumulated profit from the first period\n",
      "   - timeb: time the bid is submitted\n",
      "   - new: new data indicator\n",
      "   - lottery_profit: profit from the Holt-Laury lottery\n",
      "   - choice1-10: choosing lottery A results in a value of 1 choosing lottery B results in a value of 2\n",
      "   - error: if subjects do not follow the pattern that they switch from lottery A to B and continue to choose B\n",
      "   - ra: risk-attitude\n",
      "   - ra_adj: censored risk-attitude\n",
      "   - ra1-5: if ra_adj=4, ra1=1 ... if ra_adj=8, ra5=1\n",
      "   - pclab: PC lab number\n",
      "   - gender: gender\n",
      "   - male: male\n",
      "   - female: female\n",
      "   - ethnic: ethnicity\n",
      "   - white, asian, african, hispanic, native, other: 1 if category applies\n",
      "   - age: age\n",
      "   - siblings: number of siblings\n",
      "   - personality: optimistic, pessimistic, or neither\n",
      "   - optim, pessim, neither: 1 if applies\n",
      "   - emotions: emotions\n",
      "   - anger, anxiety, confusion, contentment, fatigue, happiness, irritation, moodswings, withdrawal: 1 if applies\n",
      "   - major: major field type\n",
      "   - sdmajor: self-declared major\n",
      "   - major1: math or statistics major\n",
      "   - major2: science or engineering major\n",
      "   - major3: economics or business major\n",
      "   - major4: other soc. science major\n",
      "   - major5: humanities or other major\n"
     ]
    },
    {
     "data": {
      "text/html": [
       "<div>\n",
       "<style scoped>\n",
       "    .dataframe tbody tr th:only-of-type {\n",
       "        vertical-align: middle;\n",
       "    }\n",
       "\n",
       "    .dataframe tbody tr th {\n",
       "        vertical-align: top;\n",
       "    }\n",
       "\n",
       "    .dataframe thead th {\n",
       "        text-align: right;\n",
       "    }\n",
       "</style>\n",
       "<table border=\"1\" class=\"dataframe\">\n",
       "  <thead>\n",
       "    <tr style=\"text-align: right;\">\n",
       "      <th></th>\n",
       "      <th>treatment</th>\n",
       "      <th>session</th>\n",
       "      <th>period</th>\n",
       "      <th>subject</th>\n",
       "      <th>disttype</th>\n",
       "      <th>highdist</th>\n",
       "      <th>lowdist</th>\n",
       "      <th>group</th>\n",
       "      <th>v</th>\n",
       "      <th>b</th>\n",
       "      <th>...</th>\n",
       "      <th>irritation</th>\n",
       "      <th>moodswings</th>\n",
       "      <th>withdrawal</th>\n",
       "      <th>major</th>\n",
       "      <th>sdmajor</th>\n",
       "      <th>major1</th>\n",
       "      <th>major2</th>\n",
       "      <th>major3</th>\n",
       "      <th>major4</th>\n",
       "      <th>major5</th>\n",
       "    </tr>\n",
       "  </thead>\n",
       "  <tbody>\n",
       "    <tr>\n",
       "      <th>0</th>\n",
       "      <td>k1_8_exp_lot</td>\n",
       "      <td>061018_1</td>\n",
       "      <td>1</td>\n",
       "      <td>1</td>\n",
       "      <td>Low</td>\n",
       "      <td>0</td>\n",
       "      <td>1</td>\n",
       "      <td>1</td>\n",
       "      <td>48</td>\n",
       "      <td>40</td>\n",
       "      <td>...</td>\n",
       "      <td>0</td>\n",
       "      <td>0</td>\n",
       "      <td>0</td>\n",
       "      <td>2</td>\n",
       "      <td>Electrical Engineering - Signal Processing (st...</td>\n",
       "      <td>0</td>\n",
       "      <td>1</td>\n",
       "      <td>0</td>\n",
       "      <td>0</td>\n",
       "      <td>0</td>\n",
       "    </tr>\n",
       "    <tr>\n",
       "      <th>1</th>\n",
       "      <td>k1_8_exp_lot</td>\n",
       "      <td>061018_1</td>\n",
       "      <td>1</td>\n",
       "      <td>2</td>\n",
       "      <td>High</td>\n",
       "      <td>1</td>\n",
       "      <td>0</td>\n",
       "      <td>4</td>\n",
       "      <td>76</td>\n",
       "      <td>15</td>\n",
       "      <td>...</td>\n",
       "      <td>0</td>\n",
       "      <td>0</td>\n",
       "      <td>0</td>\n",
       "      <td>4</td>\n",
       "      <td>public health</td>\n",
       "      <td>0</td>\n",
       "      <td>0</td>\n",
       "      <td>0</td>\n",
       "      <td>1</td>\n",
       "      <td>0</td>\n",
       "    </tr>\n",
       "    <tr>\n",
       "      <th>2</th>\n",
       "      <td>k1_8_exp_lot</td>\n",
       "      <td>061018_1</td>\n",
       "      <td>1</td>\n",
       "      <td>3</td>\n",
       "      <td>High</td>\n",
       "      <td>1</td>\n",
       "      <td>0</td>\n",
       "      <td>3</td>\n",
       "      <td>73</td>\n",
       "      <td>53</td>\n",
       "      <td>...</td>\n",
       "      <td>0</td>\n",
       "      <td>0</td>\n",
       "      <td>0</td>\n",
       "      <td>5</td>\n",
       "      <td>german and film and video studies</td>\n",
       "      <td>0</td>\n",
       "      <td>0</td>\n",
       "      <td>0</td>\n",
       "      <td>0</td>\n",
       "      <td>1</td>\n",
       "    </tr>\n",
       "    <tr>\n",
       "      <th>3</th>\n",
       "      <td>k1_8_exp_lot</td>\n",
       "      <td>061018_1</td>\n",
       "      <td>1</td>\n",
       "      <td>4</td>\n",
       "      <td>High</td>\n",
       "      <td>1</td>\n",
       "      <td>0</td>\n",
       "      <td>4</td>\n",
       "      <td>74</td>\n",
       "      <td>51</td>\n",
       "      <td>...</td>\n",
       "      <td>1</td>\n",
       "      <td>0</td>\n",
       "      <td>0</td>\n",
       "      <td>5</td>\n",
       "      <td>spanish</td>\n",
       "      <td>0</td>\n",
       "      <td>0</td>\n",
       "      <td>0</td>\n",
       "      <td>0</td>\n",
       "      <td>1</td>\n",
       "    </tr>\n",
       "    <tr>\n",
       "      <th>4</th>\n",
       "      <td>k1_8_exp_lot</td>\n",
       "      <td>061018_1</td>\n",
       "      <td>1</td>\n",
       "      <td>5</td>\n",
       "      <td>Low</td>\n",
       "      <td>0</td>\n",
       "      <td>1</td>\n",
       "      <td>1</td>\n",
       "      <td>72</td>\n",
       "      <td>52</td>\n",
       "      <td>...</td>\n",
       "      <td>0</td>\n",
       "      <td>1</td>\n",
       "      <td>0</td>\n",
       "      <td>2</td>\n",
       "      <td>Engineering</td>\n",
       "      <td>0</td>\n",
       "      <td>1</td>\n",
       "      <td>0</td>\n",
       "      <td>0</td>\n",
       "      <td>0</td>\n",
       "    </tr>\n",
       "  </tbody>\n",
       "</table>\n",
       "<p>5 rows × 72 columns</p>\n",
       "</div>"
      ],
      "text/plain": [
       "      treatment   session  period  subject disttype  highdist  lowdist  group  \\\n",
       "0  k1_8_exp_lot  061018_1       1        1      Low         0        1      1   \n",
       "1  k1_8_exp_lot  061018_1       1        2     High         1        0      4   \n",
       "2  k1_8_exp_lot  061018_1       1        3     High         1        0      3   \n",
       "3  k1_8_exp_lot  061018_1       1        4     High         1        0      4   \n",
       "4  k1_8_exp_lot  061018_1       1        5      Low         0        1      1   \n",
       "\n",
       "    v   b  ...  irritation  moodswings withdrawal  major  \\\n",
       "0  48  40  ...           0           0          0      2   \n",
       "1  76  15  ...           0           0          0      4   \n",
       "2  73  53  ...           0           0          0      5   \n",
       "3  74  51  ...           1           0          0      5   \n",
       "4  72  52  ...           0           1          0      2   \n",
       "\n",
       "                                             sdmajor  major1  major2  major3  \\\n",
       "0  Electrical Engineering - Signal Processing (st...       0       1       0   \n",
       "1                                      public health       0       0       0   \n",
       "2                  german and film and video studies       0       0       0   \n",
       "3                                            spanish       0       0       0   \n",
       "4                                        Engineering       0       1       0   \n",
       "\n",
       "   major4  major5  \n",
       "0       0       0  \n",
       "1       1       0  \n",
       "2       0       1  \n",
       "3       0       1  \n",
       "4       0       0  \n",
       "\n",
       "[5 rows x 72 columns]"
      ]
     },
     "execution_count": 41,
     "metadata": {},
     "output_type": "execute_result"
    }
   ],
   "source": [
    "#uncomment the below line to view readme files for this dataset (includes explanation of variable names)\n",
    "!cat assets/Part2_data1_readme.md\n",
    "!cat assets/Part2_data2_readme.md\n",
    "\n",
    "#uncomment the below line to view snippet of csv file\n",
    "trust_data.head()\n",
    "fpa_data.head()"
   ]
  },
  {
   "cell_type": "markdown",
   "metadata": {},
   "source": [
    "## Part A (3 points)\n",
    "\n",
    "1. For the Trust Game, subjects are grouped in pairs, paired with one assigned the role of an investor and another a recipient. Let's examine  the correlation between the amounts the investors invest and the amounts the recipients return. Complete the function below to return the correlation coefficient. (3 points)\n",
    "\n",
    "**Round any calculations to the hundredth decimal. Do not use percentages.**"
   ]
  },
  {
   "cell_type": "code",
   "execution_count": 43,
   "metadata": {
    "collapsed": false,
    "jupyter": {
     "outputs_hidden": false
    },
    "pycharm": {
     "name": "#%%\n"
    },
    "tags": []
   },
   "outputs": [],
   "source": [
    "def inv_rec_corrcoef(provided_data):\n",
    "    \"\"\" Later in this problem set, you will be modeling OLS regressions on your data. For now, we'll calculate just\n",
    "    the correlation coefficient using numpy. If needed, refer to the numpy documentation linked above.\n",
    "    \"\"\"\n",
    "    # YOUR CODE HERE\n",
    "    # raise NotImplementedError()\n",
    "    # return answer\n",
    "    \n",
    "    "
   ]
  },
  {
   "cell_type": "markdown",
   "metadata": {},
   "source": [
    "Your function should return a float with the correct coefficient value. Check that it does:"
   ]
  },
  {
   "cell_type": "code",
   "execution_count": 44,
   "metadata": {
    "collapsed": false,
    "jupyter": {
     "outputs_hidden": false
    },
    "pycharm": {
     "name": "#%%\n"
    },
    "tags": []
   },
   "outputs": [],
   "source": [
    "assert type(inv_rec_corrcoef(trust_data)) == np.float64"
   ]
  },
  {
   "cell_type": "code",
   "execution_count": 45,
   "metadata": {
    "collapsed": false,
    "jupyter": {
     "outputs_hidden": false
    },
    "pycharm": {
     "name": "#%%\n"
    },
    "tags": []
   },
   "outputs": [
    {
     "data": {
      "text/plain": [
       "'Part A #1: Checking value of correlation coefficient'"
      ]
     },
     "execution_count": 45,
     "metadata": {},
     "output_type": "execute_result"
    }
   ],
   "source": [
    "\"\"\"Part A #1: Checking value of correlation coefficient\"\"\"\n",
    "# Hidden tests"
   ]
  },
  {
   "cell_type": "markdown",
   "metadata": {},
   "source": [
    "## Part B (4 points)\n",
    "\n",
    "For the first-price auctions experiment, there are ten experimental sessions, with eight subjects per session. In this context, subjects are tasked with completing auction and lottery (Holt-Laury 2002) tasks in two orders. In five of the ten sessions, subjects first complete a lottery task, followed by 30 rounds of auctions. In the other five sessions, subjects first complete 30 rounds of auctions, followed by a lottery task. At the end of each session, subjects complete a demographics survey. The data sets extract the first period auction data for each treatment."
   ]
  },
  {
   "cell_type": "markdown",
   "metadata": {},
   "source": [
    "In this case, say that the control for the first-price auction experiment is the order in which subjects complete the lottery task followed by the auction task (k1_8_lot_exp) and the outcome variable we want to measure is the bid-value ratio (b/v).\n",
    "\n",
    "1. Using differences-in-means, what is the average treatment effect for the first-price auction experiment? (4 points)\n",
    "\n",
    "**Round any calculations to the hundredth decimal. Do not use percentages.**"
   ]
  },
  {
   "cell_type": "code",
   "execution_count": 92,
   "metadata": {
    "collapsed": false,
    "jupyter": {
     "outputs_hidden": false
    },
    "pycharm": {
     "name": "#%%\n"
    }
   },
   "outputs": [],
   "source": [
    "def ate_fpa_payoff(provided_data):\n",
    "    \"\"\"\n",
    "    Write the function to manually check the differences in means of bid-value ratios across the different groups explained above.\n",
    "    To do this, please create a new dataframe column called 'bidval_ratio' in the provided data.\n",
    "    Your function should output a dataframe with the following columns: 'lot_auc_mean', 'auc_lot_mean', 'diff in means'.\n",
    "    \"\"\"\n",
    "    # YOUR CODE HERE\n"
   ]
  },
  {
   "cell_type": "markdown",
   "metadata": {},
   "source": [
    "Your function should return a dataframe with the correct values and columns. Check that it does:"
   ]
  },
  {
   "cell_type": "code",
   "execution_count": 93,
   "metadata": {
    "collapsed": false,
    "jupyter": {
     "outputs_hidden": false
    },
    "pycharm": {
     "name": "#%%\n"
    }
   },
   "outputs": [],
   "source": [
    "assert isinstance (ate_fpa_payoff(fpa_data), pd.core.frame.DataFrame), \"checking your data is in a dataframe\""
   ]
  },
  {
   "cell_type": "code",
   "execution_count": 94,
   "metadata": {
    "collapsed": false,
    "jupyter": {
     "outputs_hidden": false
    },
    "pycharm": {
     "name": "#%%\n"
    }
   },
   "outputs": [],
   "source": [
    "assert ate_fpa_payoff(fpa_data).columns[0] == 'lot_auc_mean', \"checking df column names\"\n",
    "assert ate_fpa_payoff(fpa_data).columns[1] == 'auc_lot_mean', \"checking df column names\"\n",
    "assert ate_fpa_payoff(fpa_data).columns[2] == 'diff in means', \"checking df column names\""
   ]
  },
  {
   "cell_type": "code",
   "execution_count": 95,
   "metadata": {
    "collapsed": false,
    "jupyter": {
     "outputs_hidden": false
    },
    "pycharm": {
     "name": "#%%\n"
    }
   },
   "outputs": [
    {
     "data": {
      "text/plain": [
       "'Part B: lot_auc_mean value'"
      ]
     },
     "execution_count": 95,
     "metadata": {},
     "output_type": "execute_result"
    }
   ],
   "source": [
    "\"Part B: lot_auc_mean value\"\n",
    "# Hidden tests"
   ]
  },
  {
   "cell_type": "code",
   "execution_count": 96,
   "metadata": {
    "collapsed": false,
    "jupyter": {
     "outputs_hidden": false
    },
    "pycharm": {
     "name": "#%%\n"
    }
   },
   "outputs": [
    {
     "data": {
      "text/plain": [
       "'Part B: auc_lot_mean value'"
      ]
     },
     "execution_count": 96,
     "metadata": {},
     "output_type": "execute_result"
    }
   ],
   "source": [
    "\"Part B: auc_lot_mean value\"\n",
    "# Hidden tests"
   ]
  },
  {
   "cell_type": "markdown",
   "metadata": {},
   "source": [
    "## Part C (12 points)\n",
    "\n",
    "Continuing with the ```fpa_data``` dataset from last part, we would expect subjects to bid a certain fraction of their value in a first-price sealed bid auction depending on their risk attitudes (e.g., risk neutral, risk averse). Let's explore what effect gender has on bid-value ratios when controlled with risk. This time, let's calculate this average treatment effect using an ordinary least-squares regression."
   ]
  },
  {
   "cell_type": "markdown",
   "metadata": {},
   "source": [
    "1. Using the ```fpa_data``` dataframe and an ordinary least-squares regression model, complete the ```ols_riskfemale_on_bidvalue``` function to evaluate how subjects’ risk attitudes and gender (in the form of the _female_ variable) affect their bid/value ratio. For now, we'll just return a summary view of our data. (2 points)\n",
    "\n",
    "**Round any calculations to the hundredth decimal. Do not use percentages.**"
   ]
  },
  {
   "cell_type": "code",
   "execution_count": 116,
   "metadata": {
    "collapsed": false,
    "jupyter": {
     "outputs_hidden": false
    },
    "pycharm": {
     "name": "#%%\n"
    }
   },
   "outputs": [],
   "source": [
    "def ols_riskgender_on_bidvalue(provided_data):\n",
    "\n",
    "    \"\"\"\n",
    "    The easiest way to evaluate how subjects' risk attitudes and gender affect their bid/value ratio is to run an OLS linear\n",
    "    regression on your fpa_data dataframe. Use the statsmodels library to run an OLS linear regression, and return the summary\n",
    "    view of your results.\n",
    "\n",
    "    \"\"\"\n",
    "    \n",
    "   "
   ]
  },
  {
   "cell_type": "code",
   "execution_count": null,
   "metadata": {},
   "outputs": [],
   "source": [
    "# >>> Y = duncan_prestige.data['income']\n",
    "# >>> X = duncan_prestige.data['education']\n",
    "# >>> X = sm.add_constant(X)\n",
    "# >>> model = sm.OLS(Y,X)\n",
    "# >>> results = model.fit()\n",
    "# >>> results.params"
   ]
  },
  {
   "cell_type": "markdown",
   "metadata": {},
   "source": [
    "Your function should return a summary view of your results. Check that it does:"
   ]
  },
  {
   "cell_type": "markdown",
   "metadata": {},
   "source": [
    "2. Now, modify the ols_riskgender_on_bidvalue function to access the model's coefficients (parameters) and associated p-values, instead of printing out the entire summary view. For now, we won't worry about rounding. (3 points)"
   ]
  },
  {
   "cell_type": "code",
   "execution_count": null,
   "metadata": {
    "collapsed": false,
    "jupyter": {
     "outputs_hidden": false
    },
    "pycharm": {
     "name": "#%%\n"
    }
   },
   "outputs": [],
   "source": [
    "def ols_riskgender_on_bidvalue(provided_data):\n",
    "\n",
    "    \"\"\"\n",
    "    The easiest way to evaluate how subjects' risk attitudes and gender affect their bid/value ratio is to run an OLS linear\n",
    "    regression on your data dataframe. Use the statsmodels library to run an OLS linear regression, and this time return the\n",
    "    the coefficients and the p-values for your model.\n",
    "\n",
    "    \"\"\"\n",
    "\n",
    "   "
   ]
  },
  {
   "cell_type": "code",
   "execution_count": null,
   "metadata": {},
   "outputs": [],
   "source": []
  },
  {
   "cell_type": "markdown",
   "metadata": {},
   "source": [
    "Your function should return a raw tuple of your results in pandas Series form. Check that it does:"
   ]
  },
  {
   "cell_type": "code",
   "execution_count": null,
   "metadata": {
    "collapsed": false,
    "jupyter": {
     "outputs_hidden": false
    },
    "pycharm": {
     "name": "#%%\n"
    }
   },
   "outputs": [],
   "source": [
    "ols_riskgender_on_bidvalue(fpa_data)"
   ]
  },
  {
   "cell_type": "code",
   "execution_count": null,
   "metadata": {
    "collapsed": false,
    "jupyter": {
     "outputs_hidden": false
    },
    "pycharm": {
     "name": "#%%\n"
    }
   },
   "outputs": [],
   "source": [
    "\"checking your return value is a tuple of type pandas series\"\n",
    "assert isinstance (ols_riskgender_on_bidvalue(fpa_data)[0], pd.core.series.Series)\n",
    "assert isinstance (ols_riskgender_on_bidvalue(fpa_data)[1], pd.core.series.Series)"
   ]
  },
  {
   "cell_type": "code",
   "execution_count": null,
   "metadata": {
    "collapsed": false,
    "jupyter": {
     "outputs_hidden": false
    },
    "pycharm": {
     "name": "#%%\n"
    }
   },
   "outputs": [],
   "source": [
    "\"checking the value of 'const' for both values\"\n",
    "# Hidden tests"
   ]
  },
  {
   "cell_type": "markdown",
   "metadata": {},
   "source": [
    "3. Now, let's make our results more readable. Let's modify our function once again to this time create a dataframe that has the coefficients and p-values for the control variables and constant, **rounding to the nearest hundredth decimal**. (4 points)"
   ]
  },
  {
   "cell_type": "code",
   "execution_count": null,
   "metadata": {
    "collapsed": false,
    "jupyter": {
     "outputs_hidden": false
    },
    "pycharm": {
     "name": "#%%\n"
    }
   },
   "outputs": [],
   "source": [
    "def ols_riskgender_on_bidvalue_df(provided_data):\n",
    "\n",
    "    \"\"\"\n",
    "    This function should use the results of the ols_riskgender_on_bidvalue function above to output a dataframe\n",
    "    that has the coefficients and p-values for the control variables and constant.\n",
    "    The dataframe should have the following columns: 'variable', 'coefficient', and 'p-value'\n",
    "\n",
    "    \"\"\"\n",
    "    # define your parameters for your model and the p-values, then fill in the rest of the function below.\n",
    "\n",
    "    # YOUR CODE HERE\n"
   ]
  },
  {
   "cell_type": "code",
   "execution_count": null,
   "metadata": {},
   "outputs": [],
   "source": []
  },
  {
   "cell_type": "markdown",
   "metadata": {},
   "source": [
    "Your function should return a dataframe of your results. Check that it does:"
   ]
  },
  {
   "cell_type": "code",
   "execution_count": null,
   "metadata": {
    "collapsed": false,
    "jupyter": {
     "outputs_hidden": false
    },
    "pycharm": {
     "name": "#%%\n"
    }
   },
   "outputs": [],
   "source": [
    "ols_riskgender_on_bidvalue_df(fpa_data)"
   ]
  },
  {
   "cell_type": "code",
   "execution_count": null,
   "metadata": {
    "collapsed": false,
    "jupyter": {
     "outputs_hidden": false
    },
    "pycharm": {
     "name": "#%%\n"
    }
   },
   "outputs": [],
   "source": [
    "\"\"\"Part C: Check the dataframe outputs the correct p-values from OLS model\"\"\"\n",
    "# Hidden tests"
   ]
  },
  {
   "cell_type": "code",
   "execution_count": null,
   "metadata": {
    "collapsed": false,
    "jupyter": {
     "outputs_hidden": false
    },
    "pycharm": {
     "name": "#%%\n"
    }
   },
   "outputs": [],
   "source": [
    "\"\"\"Part C: Check the dataframe outputs the correct coefficients from OLS model\"\"\"\n",
    "# Hidden tests"
   ]
  },
  {
   "cell_type": "code",
   "execution_count": null,
   "metadata": {
    "collapsed": false,
    "jupyter": {
     "outputs_hidden": false
    },
    "pycharm": {
     "name": "#%%\n"
    }
   },
   "outputs": [],
   "source": [
    "4. If you remove the risk attitudes variable from the model, does it have a significant effect on how gender contributes to bid/value ratios? Complete the ```ols_female_on_bidvalue``` function to assess this. Part of the function has already been completed for you. (3 points)\n",
    "\n",
    "**Round any calculations to the hundredth decimal. Do not use percentages.**"
   ]
  },
  {
   "cell_type": "code",
   "execution_count": null,
   "metadata": {
    "collapsed": false,
    "jupyter": {
     "outputs_hidden": false
    },
    "pycharm": {
     "name": "#%%\n"
    }
   },
   "outputs": [],
   "source": [
    "def ols_gender_on_bidvalue_df(provided_data):\n",
    "\n",
    "    \"\"\"\n",
    "    Complete the function that takes the provided data and creates a OLS model that determines the effect of\n",
    "    gender (using the female variable) on subjects' bid/value ratios. It should output (by filling in the missing values)\n",
    "    a dataframe that has the coefficients for the control variables and intercept.\n",
    "\n",
    "    \"\"\"\n",
    "    # assign your X and Y variables, and define your parameters and pvalues. Then, fill in the rest of the function below.\n",
    "    # YOUR CODE HERE\n",
    "    raise NotImplementedError()\n",
    "\n"
   ]
  },
  {
   "cell_type": "markdown",
   "metadata": {},
   "source": [
    "Your function should return a dataframe with each of the variables and their completed coefficient and p-value for the OLS model.\n",
    "\n",
    "Check that it does:"
   ]
  },
  {
   "cell_type": "code",
   "execution_count": null,
   "metadata": {
    "collapsed": false,
    "jupyter": {
     "outputs_hidden": false
    },
    "pycharm": {
     "name": "#%%\n"
    }
   },
   "outputs": [],
   "source": [
    "ols_gender_on_bidvalue_df(fpa_data)"
   ]
  },
  {
   "cell_type": "code",
   "execution_count": null,
   "metadata": {
    "collapsed": false,
    "jupyter": {
     "outputs_hidden": false
    },
    "pycharm": {
     "name": "#%%\n"
    }
   },
   "outputs": [],
   "source": [
    "assert ols_gender_on_bidvalue_df(fpa_data).iloc[0][2] == 0, \"checking the const p-value value\""
   ]
  },
  {
   "cell_type": "code",
   "execution_count": null,
   "metadata": {
    "collapsed": false,
    "jupyter": {
     "outputs_hidden": false
    },
    "pycharm": {
     "name": "#%%\n"
    }
   },
   "outputs": [],
   "source": [
    "\"\"\"Check that the dataframe outputs the correct values from the OLS model\"\"\"\n",
    "# Hidden tests"
   ]
  },
  {
   "cell_type": "markdown",
   "metadata": {},
   "source": [
    "## Part 3:\n",
    "- 1. Power & Sample Sizes\n",
    "- 2. Randomization - Blocking & Clustering\n",
    "- 3. Differences-in-Differences\n",
    "\n",
    "## Overview\n",
    "### The objective of this part is to:\n",
    "\n",
    "- Applying theory of experiment design and knowledge of analysis techniques to real experiment data.\n",
    "\n",
    "\n",
    "\n",
    "### Resources:\n",
    "- StatsModels and Scipy.stats\n",
    "    - We recommend using two python libraries called [StatsModels](https://www.statsmodels.org/stable/index.html) and [scipy.stats](https://docs.scipy.org/doc/scipy/reference/tutorial/stats.html) for data analysis\n",
    "\n",
    "- Datasets used for this part:\n",
    "    - MovieLens Data: [Part3_data.csv](assets/Part3_data.csv)\n",
    "        - Source for dataset: [Chen, Y. et al. Social Comparisons and Contributions to Online Communities: A Field Experiment on MovieLens. (2010).](https://www-jstor-org.proxy.lib.umich.edu/stable/27871259)"
   ]
  },
  {
   "cell_type": "code",
   "execution_count": 121,
   "metadata": {
    "collapsed": false,
    "jupyter": {
     "outputs_hidden": false
    },
    "pycharm": {
     "name": "#%%\n"
    },
    "tags": []
   },
   "outputs": [],
   "source": [
    "import pandas as pd\n",
    "import numpy as np\n",
    "import statsmodels.api as sm\n",
    "import statsmodels.stats.api as sms\n",
    "import math as math\n",
    "from scipy import stats\n",
    "from statsmodels.stats.power import TTestIndPower\n",
    "#you may or may not use all of the above libraries, and that is OK!\n",
    "\n",
    "movie_data = pd.read_csv('assets/Part3_data.csv') #Data for this part"
   ]
  },
  {
   "cell_type": "code",
   "execution_count": 122,
   "metadata": {
    "collapsed": false,
    "jupyter": {
     "outputs_hidden": false
    },
    "pycharm": {
     "name": "#%%\n"
    },
    "tags": []
   },
   "outputs": [
    {
     "data": {
      "text/html": [
       "<div>\n",
       "<style scoped>\n",
       "    .dataframe tbody tr th:only-of-type {\n",
       "        vertical-align: middle;\n",
       "    }\n",
       "\n",
       "    .dataframe tbody tr th {\n",
       "        vertical-align: top;\n",
       "    }\n",
       "\n",
       "    .dataframe thead th {\n",
       "        text-align: right;\n",
       "    }\n",
       "</style>\n",
       "<table border=\"1\" class=\"dataframe\">\n",
       "  <thead>\n",
       "    <tr style=\"text-align: right;\">\n",
       "      <th></th>\n",
       "      <th>userid</th>\n",
       "      <th>expcondition</th>\n",
       "      <th>userage</th>\n",
       "      <th>compare_w_median</th>\n",
       "      <th>ratings_lifetime</th>\n",
       "      <th>pre_rating</th>\n",
       "      <th>post_rating</th>\n",
       "      <th>active</th>\n",
       "      <th>male</th>\n",
       "      <th>weeks</th>\n",
       "      <th>control</th>\n",
       "    </tr>\n",
       "  </thead>\n",
       "  <tbody>\n",
       "    <tr>\n",
       "      <th>0</th>\n",
       "      <td>42126</td>\n",
       "      <td>control</td>\n",
       "      <td>old</td>\n",
       "      <td>1</td>\n",
       "      <td>1300</td>\n",
       "      <td>0</td>\n",
       "      <td>0</td>\n",
       "      <td>0</td>\n",
       "      <td>0</td>\n",
       "      <td>496</td>\n",
       "      <td>1</td>\n",
       "    </tr>\n",
       "    <tr>\n",
       "      <th>1</th>\n",
       "      <td>47947</td>\n",
       "      <td>control</td>\n",
       "      <td>old</td>\n",
       "      <td>0</td>\n",
       "      <td>765</td>\n",
       "      <td>0</td>\n",
       "      <td>38</td>\n",
       "      <td>1</td>\n",
       "      <td>0</td>\n",
       "      <td>361</td>\n",
       "      <td>1</td>\n",
       "    </tr>\n",
       "    <tr>\n",
       "      <th>2</th>\n",
       "      <td>49034</td>\n",
       "      <td>control</td>\n",
       "      <td>old</td>\n",
       "      <td>-1</td>\n",
       "      <td>313</td>\n",
       "      <td>0</td>\n",
       "      <td>41</td>\n",
       "      <td>1</td>\n",
       "      <td>0</td>\n",
       "      <td>347</td>\n",
       "      <td>1</td>\n",
       "    </tr>\n",
       "    <tr>\n",
       "      <th>3</th>\n",
       "      <td>51898</td>\n",
       "      <td>conformity</td>\n",
       "      <td>old</td>\n",
       "      <td>0</td>\n",
       "      <td>898</td>\n",
       "      <td>0</td>\n",
       "      <td>8</td>\n",
       "      <td>1</td>\n",
       "      <td>1</td>\n",
       "      <td>301</td>\n",
       "      <td>0</td>\n",
       "    </tr>\n",
       "    <tr>\n",
       "      <th>4</th>\n",
       "      <td>52797</td>\n",
       "      <td>conformity</td>\n",
       "      <td>old</td>\n",
       "      <td>0</td>\n",
       "      <td>885</td>\n",
       "      <td>0</td>\n",
       "      <td>33</td>\n",
       "      <td>1</td>\n",
       "      <td>0</td>\n",
       "      <td>300</td>\n",
       "      <td>0</td>\n",
       "    </tr>\n",
       "  </tbody>\n",
       "</table>\n",
       "</div>"
      ],
      "text/plain": [
       "   userid expcondition userage  compare_w_median  ratings_lifetime  \\\n",
       "0   42126      control     old                 1              1300   \n",
       "1   47947      control     old                 0               765   \n",
       "2   49034      control     old                -1               313   \n",
       "3   51898   conformity     old                 0               898   \n",
       "4   52797   conformity     old                 0               885   \n",
       "\n",
       "   pre_rating  post_rating  active  male  weeks  control  \n",
       "0           0            0       0     0    496        1  \n",
       "1           0           38       1     0    361        1  \n",
       "2           0           41       1     0    347        1  \n",
       "3           0            8       1     1    301        0  \n",
       "4           0           33       1     0    300        0  "
      ]
     },
     "execution_count": 122,
     "metadata": {},
     "output_type": "execute_result"
    }
   ],
   "source": [
    "#uncomment the below line to view readme files for this dataset (includes explanation of variable names)\n",
    "# !cat assets/Part3_data_readme.md\n",
    "\n",
    "#uncomment the below line to view snippet of csv file\n",
    "movie_data.head()"
   ]
  },
  {
   "cell_type": "markdown",
   "metadata": {},
   "source": [
    "## Introduction\n",
    "In `movie_data`, you will find a dataframe containing a portion of the data from MovieLens experiment. To simply this part, you will only find one treatment condition where the experimenters tested the impact of social influence on moving ratings. This treatment was administrated through sending a tailored email that emphasized social influence. In contrast, subjects in the control received a plain version of email."
   ]
  },
  {
   "cell_type": "markdown",
   "metadata": {},
   "source": [
    "## Part A (6 points)\n",
    "\n",
    "First, we should check if our sample is relatively balanced across our treatment and control groups. Test the following hypotheses using a t-test:\n",
    "\n",
    "1. The number of ratings in the month before the intervention (`pre_rating`) are balanced between the treatment and control groups. (3 points)\n",
    "\n",
    "**Round any calculations to the hundredth decimal. Do not use percentages.**"
   ]
  },
  {
   "cell_type": "code",
   "execution_count": 123,
   "metadata": {
    "collapsed": false,
    "jupyter": {
     "outputs_hidden": false
    },
    "pycharm": {
     "name": "#%%\n"
    }
   },
   "outputs": [],
   "source": [
    "def pre_ratings(provided_data):\n",
    "\n",
    "    \"\"\"\n",
    "    Write the function to manually check the differences in means of pre-rating values between the control and treatment groups.\n",
    "    Your function should output a named dataframe with the following columns: 'avg control', 'avg treatment', 't-statistic', 'p-value'.\n",
    "    The dataframe should be named, 'Difference in Means between Pre-Rating Groups'.\n",
    "    Tip: you can choose to use either the statsmodels stats library or the scipy stats library to calculate the t-statistic and p-value.\n",
    "    \"\"\"\n",
    "    # YOUR CODE HERE\n"
   ]
  },
  {
   "cell_type": "markdown",
   "metadata": {},
   "source": [
    "Your function should return a named dataframe with each of the variables and their completed statistics. Check that it does:"
   ]
  },
  {
   "cell_type": "code",
   "execution_count": 124,
   "metadata": {
    "collapsed": false,
    "jupyter": {
     "outputs_hidden": false
    },
    "pycharm": {
     "name": "#%%\n"
    }
   },
   "outputs": [],
   "source": [
    "assert pre_ratings(movie_data).name == \"Difference in Means between Pre-Rating Groups\"\n",
    "df_columns = ['avg control', 'avg treatment', 't-statistic', 'p-value']\n",
    "for index, title in enumerate(pre_ratings(movie_data).columns):\n",
    "    assert title == df_columns[index]"
   ]
  },
  {
   "cell_type": "code",
   "execution_count": 125,
   "metadata": {
    "collapsed": false,
    "jupyter": {
     "outputs_hidden": false
    },
    "pycharm": {
     "name": "#%%\n"
    }
   },
   "outputs": [
    {
     "data": {
      "text/plain": [
       "'Checking avg_control and avg_treatment values'"
      ]
     },
     "execution_count": 125,
     "metadata": {},
     "output_type": "execute_result"
    }
   ],
   "source": [
    "\"\"\"Checking avg_control and avg_treatment values\"\"\"\n",
    "# Hidden tests"
   ]
  },
  {
   "cell_type": "code",
   "execution_count": 126,
   "metadata": {
    "collapsed": false,
    "jupyter": {
     "outputs_hidden": false
    },
    "pycharm": {
     "name": "#%%\n"
    }
   },
   "outputs": [
    {
     "data": {
      "text/plain": [
       "'checking your t-statistic and p-value are correct'"
      ]
     },
     "execution_count": 126,
     "metadata": {},
     "output_type": "execute_result"
    }
   ],
   "source": [
    "\"\"\"checking your t-statistic and p-value are correct\"\"\"\n",
    "# Hidden tests"
   ]
  },
  {
   "cell_type": "markdown",
   "metadata": {},
   "source": [
    "2. Test that the gender composition (variable 'male') is similar between the treatment and control groups. (3 points)\n",
    "\n",
    "**Round any calculations to the hundredth decimal. Do not use percentages.**"
   ]
  },
  {
   "cell_type": "code",
   "execution_count": 127,
   "metadata": {
    "collapsed": false,
    "jupyter": {
     "outputs_hidden": false
    },
    "pycharm": {
     "name": "#%%\n"
    }
   },
   "outputs": [],
   "source": [
    "def male_gender_comp(provided_data):\n",
    "\n",
    "    \"\"\"\n",
    "    Write the function to manually check the differences in means of participant gender across the control and treatment groups.\n",
    "    Your function should output a named dataframe with the following columns: 'avg control', 'avg treatment', 't-statistic', 'p-value'\n",
    "    The dataframe should be named, 'Difference in Means of Males'.\n",
    "    Tip: you can choose to use either the statsmodels stats library or the scipy stats library to calculate the t-statistic and p-value.\n",
    "    \"\"\"\n"
   ]
  },
  {
   "cell_type": "markdown",
   "metadata": {},
   "source": [
    "Your function should return a named dataframe with each of the variables and their completed statistics. Check that it does:"
   ]
  },
  {
   "cell_type": "code",
   "execution_count": 128,
   "metadata": {
    "collapsed": false,
    "jupyter": {
     "outputs_hidden": false
    },
    "pycharm": {
     "name": "#%%\n"
    }
   },
   "outputs": [],
   "source": [
    "\"\"\"Checking the t-statistic and p-value in your dataframe are correct\"\"\"\n",
    "assert next(iter(male_gender_comp(movie_data)['t-statistic'])) == -0.49\n",
    "assert next(iter(male_gender_comp(movie_data)['p-value'])) == 0.62"
   ]
  },
  {
   "cell_type": "code",
   "execution_count": 129,
   "metadata": {
    "collapsed": false,
    "jupyter": {
     "outputs_hidden": false
    },
    "pycharm": {
     "name": "#%%\n"
    }
   },
   "outputs": [
    {
     "data": {
      "text/plain": [
       "'Part A #2: Checking your dataframe is named, and your columns are in order'"
      ]
     },
     "execution_count": 129,
     "metadata": {},
     "output_type": "execute_result"
    }
   ],
   "source": [
    "\"\"\"Part A #2: Checking your dataframe is named, and your columns are in order\"\"\"\n",
    "# Hidden tests"
   ]
  },
  {
   "cell_type": "code",
   "execution_count": 130,
   "metadata": {
    "collapsed": false,
    "jupyter": {
     "outputs_hidden": false
    },
    "pycharm": {
     "name": "#%%\n"
    }
   },
   "outputs": [
    {
     "data": {
      "text/plain": [
       "'Part A #2: Checking your avg control and avg treatment values are correct'"
      ]
     },
     "execution_count": 130,
     "metadata": {},
     "output_type": "execute_result"
    }
   ],
   "source": [
    "\"\"\"Part A #2: Checking your avg control and avg treatment values are correct\"\"\"\n",
    "# Hidden tests"
   ]
  },
  {
   "cell_type": "markdown",
   "metadata": {
    "jupyter": {
     "outputs_hidden": false
    },
    "pycharm": {
     "name": "#%%\n"
    }
   },
   "source": [
    "## Part B (6 points)\n",
    "\n",
    "From the MovieLens experiment, we know that we want to estimate the impact of social influence on moving ratings on the MovieLens platform. Let’s estimate this by using difference-in-differences to examine the effects of post_rating for the treatment and control group.\n",
    "\n",
    "1. Create a new variable, delta, in the dataframe and output the dataframe. Delta should show the difference in pre_rating and post_rating (calculate using post_rating – pre_rating). (2 points)"
   ]
  },
  {
   "cell_type": "code",
   "execution_count": 131,
   "metadata": {
    "collapsed": false,
    "jupyter": {
     "outputs_hidden": false
    },
    "pycharm": {
     "name": "#%%\n"
    }
   },
   "outputs": [],
   "source": [
    "def delta_ratings(provided_data):\n",
    "\n",
    "    \"\"\"\n",
    "    Write the function to output a new dataframe with the following columns: 'userid','compare_w_median','pre_rating','post_rating','delta','control'.\n",
    "    The content of the columns should come from movie_data. Delta should be calculated as post_rating - pre_rating.\n",
    "    The dataframe should be named, 'Delta in Ratings'.\n",
    "    \"\"\"\n"
   ]
  },
  {
   "cell_type": "markdown",
   "metadata": {
    "pycharm": {
     "name": "#%% md\n"
    }
   },
   "source": [
    "Your function should return a named dataframe with each of the variables and their values. Check that it does:"
   ]
  },
  {
   "cell_type": "code",
   "execution_count": 132,
   "metadata": {
    "collapsed": false,
    "jupyter": {
     "outputs_hidden": false
    },
    "pycharm": {
     "name": "#%%\n"
    }
   },
   "outputs": [],
   "source": [
    "\"\"\"checking you have a named dataframe\"\"\"\n",
    "assert delta_ratings(movie_data).name == \"Delta in Ratings\""
   ]
  },
  {
   "cell_type": "code",
   "execution_count": 133,
   "metadata": {
    "collapsed": false,
    "jupyter": {
     "outputs_hidden": false
    },
    "pycharm": {
     "name": "#%%\n"
    }
   },
   "outputs": [
    {
     "data": {
      "text/plain": [
       "'checking your column names and orders'"
      ]
     },
     "execution_count": 133,
     "metadata": {},
     "output_type": "execute_result"
    }
   ],
   "source": [
    "\"\"\"checking your column names and orders\"\"\"\n",
    "# Hidden tests"
   ]
  },
  {
   "cell_type": "markdown",
   "metadata": {},
   "source": [
    "2. Use an ordinary least squares regression model to explore the average treatment-effect on delta. Using a t-test, what is the significance using the t-statistic and p-value of this effect? (4 points)\n",
    "\n",
    "**Round any calculations to the hundredth decimal. Do not use percentages.**"
   ]
  },
  {
   "cell_type": "code",
   "execution_count": 211,
   "metadata": {
    "collapsed": false,
    "jupyter": {
     "outputs_hidden": false
    },
    "pycharm": {
     "name": "#%%\n"
    }
   },
   "outputs": [],
   "source": [
    "import statsmodels.api as sm\n",
    "\n",
    "def ate_delta_avg(provided_data):\n",
    "\n",
    "    \"\"\" The easiest way to evaluate the average treatment effect is to run a linear regression, with delta as\n",
    "    the dependent variable, and control as the independent variable. Use the statsmodels library to run an\n",
    "    OLS linear regression, and return a named dataframe with the t-statistic and pvalue associated your model's control\n",
    "    data.\n",
    "    The dataframe should have the following columns: 't-statistic', 'p-value', and should be named 'Average Treatment\n",
    "    Effect on Delta'\n",
    "    \"\"\"\n",
    "    # complete the function by assigning your X and Y, and fitting your model. Remember to add a constant.\n",
    "    # YOUR CODE HERE\n",
    "    # raise NotImplementedError()\n"
   ]
  },
  {
   "cell_type": "markdown",
   "metadata": {},
   "source": [
    "Your function should return a named dataframe with the correct values. Check that it does:"
   ]
  },
  {
   "cell_type": "code",
   "execution_count": 212,
   "metadata": {
    "collapsed": false,
    "jupyter": {
     "outputs_hidden": false
    },
    "pycharm": {
     "name": "#%%\n"
    }
   },
   "outputs": [
    {
     "data": {
      "text/html": [
       "<div>\n",
       "<style scoped>\n",
       "    .dataframe tbody tr th:only-of-type {\n",
       "        vertical-align: middle;\n",
       "    }\n",
       "\n",
       "    .dataframe tbody tr th {\n",
       "        vertical-align: top;\n",
       "    }\n",
       "\n",
       "    .dataframe thead th {\n",
       "        text-align: right;\n",
       "    }\n",
       "</style>\n",
       "<table border=\"1\" class=\"dataframe\">\n",
       "  <thead>\n",
       "    <tr style=\"text-align: right;\">\n",
       "      <th></th>\n",
       "      <th>t-statistic</th>\n",
       "      <th>p-value</th>\n",
       "    </tr>\n",
       "  </thead>\n",
       "  <tbody>\n",
       "    <tr>\n",
       "      <th>-1</th>\n",
       "      <td>16.29</td>\n",
       "      <td>0.62</td>\n",
       "    </tr>\n",
       "  </tbody>\n",
       "</table>\n",
       "</div>"
      ],
      "text/plain": [
       "   t-statistic p-value\n",
       "-1       16.29    0.62"
      ]
     },
     "execution_count": 212,
     "metadata": {},
     "output_type": "execute_result"
    }
   ],
   "source": [
    "ate_delta_avg(movie_data) #again, if you get a deprecation warning, that is fine."
   ]
  },
  {
   "cell_type": "code",
   "execution_count": 213,
   "metadata": {
    "collapsed": false,
    "jupyter": {
     "outputs_hidden": false
    },
    "pycharm": {
     "name": "#%%\n"
    }
   },
   "outputs": [
    {
     "data": {
      "text/plain": [
       "'Part B #2: Checking your dataframe is named, and your columns are in order'"
      ]
     },
     "execution_count": 213,
     "metadata": {},
     "output_type": "execute_result"
    }
   ],
   "source": [
    "\"\"\"Part B #2: Checking your dataframe is named, and your columns are in order\"\"\"\n",
    "# Hidden tests"
   ]
  },
  {
   "cell_type": "code",
   "execution_count": 214,
   "metadata": {
    "collapsed": false,
    "jupyter": {
     "outputs_hidden": false
    },
    "pycharm": {
     "name": "#%%\n"
    }
   },
   "outputs": [
    {
     "data": {
      "text/plain": [
       "'checking your t-statistic and p-value are correct'"
      ]
     },
     "execution_count": 214,
     "metadata": {},
     "output_type": "execute_result"
    }
   ],
   "source": [
    "\"\"\"checking your t-statistic and p-value are correct\"\"\"\n",
    "# Hidden tests"
   ]
  },
  {
   "cell_type": "markdown",
   "metadata": {},
   "source": [
    "## Part C (8 points)"
   ]
  },
  {
   "cell_type": "markdown",
   "metadata": {},
   "source": [
    "What if we break this comparison down by group, specifically the total number of ratings users complete compared with the median ratings (compare_w_median)?"
   ]
  },
  {
   "cell_type": "markdown",
   "metadata": {},
   "source": [
    "1. Output the t-statistics and p-values for the average treatment-effect on delta across median ratings (where ```compare_w_median``` == -1, where ```compare_w_median``` == 0, and where ```compare_w_median``` == 1). (8 points)"
   ]
  },
  {
   "cell_type": "code",
   "execution_count": 215,
   "metadata": {
    "collapsed": false,
    "jupyter": {
     "outputs_hidden": false
    },
    "pycharm": {
     "name": "#%%\n"
    }
   },
   "outputs": [],
   "source": [
    "def ate_delta_median_values(provided_data):\n",
    "    \"\"\" The easiest way to evaluate the average treatment effect is to run a linear regression for each of the\n",
    "    distinct 'compare_w_median' values, with delta as the dependent variable, and control as the independent\n",
    "    variable. Use the statsmodels library to run OLS linear regressions, and output a dataframe.\n",
    "\n",
    "    The dataframe should be indexed, with the index values as follows: 'below median', 'at median', 'abv median'.\n",
    "    The dataframe should have the following columns: 't-statistic', 'p-value'.\n",
    "    The dataframe should be named 'Average Treatment Effect across Median Scores'\n",
    "\n",
    "    \"\"\"\n",
    "    \n",
    "   "
   ]
  },
  {
   "cell_type": "markdown",
   "metadata": {},
   "source": [
    "Your function should return a named and indexed dataframe with the correct values. Check that it does:"
   ]
  },
  {
   "cell_type": "code",
   "execution_count": 216,
   "metadata": {
    "collapsed": false,
    "jupyter": {
     "outputs_hidden": false
    },
    "pycharm": {
     "name": "#%%\n"
    }
   },
   "outputs": [
    {
     "data": {
      "text/html": [
       "<div>\n",
       "<style scoped>\n",
       "    .dataframe tbody tr th:only-of-type {\n",
       "        vertical-align: middle;\n",
       "    }\n",
       "\n",
       "    .dataframe tbody tr th {\n",
       "        vertical-align: top;\n",
       "    }\n",
       "\n",
       "    .dataframe thead th {\n",
       "        text-align: right;\n",
       "    }\n",
       "</style>\n",
       "<table border=\"1\" class=\"dataframe\">\n",
       "  <thead>\n",
       "    <tr style=\"text-align: right;\">\n",
       "      <th></th>\n",
       "      <th>t-statistic</th>\n",
       "      <th>p-value</th>\n",
       "    </tr>\n",
       "  </thead>\n",
       "  <tbody>\n",
       "    <tr>\n",
       "      <th>below median</th>\n",
       "      <td>-0.05</td>\n",
       "      <td>0.02</td>\n",
       "    </tr>\n",
       "    <tr>\n",
       "      <th>at median</th>\n",
       "      <td>-1.66</td>\n",
       "      <td>0.03</td>\n",
       "    </tr>\n",
       "    <tr>\n",
       "      <th>abv median</th>\n",
       "      <td>-0.32</td>\n",
       "      <td>0.48</td>\n",
       "    </tr>\n",
       "  </tbody>\n",
       "</table>\n",
       "</div>"
      ],
      "text/plain": [
       "             t-statistic p-value\n",
       "below median       -0.05    0.02\n",
       "at median          -1.66    0.03\n",
       "abv median         -0.32    0.48"
      ]
     },
     "execution_count": 216,
     "metadata": {},
     "output_type": "execute_result"
    }
   ],
   "source": [
    "ate_delta_median_values(delta_ratings(movie_data))"
   ]
  },
  {
   "cell_type": "code",
   "execution_count": 217,
   "metadata": {
    "collapsed": false,
    "jupyter": {
     "outputs_hidden": false
    },
    "pycharm": {
     "name": "#%%\n"
    }
   },
   "outputs": [],
   "source": [
    "\"\"\"checking your dataframe is named, your columns are in order, and you have a dataframe index\"\"\"\n",
    "assert ate_delta_median_values(delta_ratings(movie_data)).name == 'Average Treatment Effect across Median Scores'\n",
    "check_col = iter(ate_delta_median_values(delta_ratings(movie_data)).columns)\n",
    "check_ind = iter(ate_delta_median_values(delta_ratings(movie_data)).index)\n",
    "assert next(check_ind) == 'below median'\n",
    "assert next(check_ind) == 'at median'\n",
    "assert next(check_ind) == 'abv median'\n",
    "assert next(check_col) == 't-statistic'\n",
    "assert next(check_col) == 'p-value'"
   ]
  },
  {
   "cell_type": "code",
   "execution_count": 218,
   "metadata": {
    "collapsed": false,
    "jupyter": {
     "outputs_hidden": false
    },
    "pycharm": {
     "name": "#%%\n"
    }
   },
   "outputs": [
    {
     "data": {
      "text/plain": [
       "'checking your below-median t-statistic and p-value are correct'"
      ]
     },
     "execution_count": 218,
     "metadata": {},
     "output_type": "execute_result"
    }
   ],
   "source": [
    "\"\"\"checking your below-median t-statistic and p-value are correct\"\"\"\n",
    "# Hidden tests"
   ]
  },
  {
   "cell_type": "code",
   "execution_count": 219,
   "metadata": {
    "collapsed": false,
    "jupyter": {
     "outputs_hidden": false
    },
    "pycharm": {
     "name": "#%%\n"
    }
   },
   "outputs": [
    {
     "data": {
      "text/plain": [
       "'checking your at-median t-statistic and p-value are correct'"
      ]
     },
     "execution_count": 219,
     "metadata": {},
     "output_type": "execute_result"
    }
   ],
   "source": [
    "\"\"\"checking your at-median t-statistic and p-value are correct\"\"\"\n",
    "# Hidden tests"
   ]
  },
  {
   "cell_type": "code",
   "execution_count": 220,
   "metadata": {
    "collapsed": false,
    "jupyter": {
     "outputs_hidden": false
    },
    "pycharm": {
     "name": "#%%\n"
    }
   },
   "outputs": [
    {
     "data": {
      "text/plain": [
       "'checking your abv-median t-statistic and p-value are correct'"
      ]
     },
     "execution_count": 220,
     "metadata": {},
     "output_type": "execute_result"
    }
   ],
   "source": [
    "\"\"\"checking your abv-median t-statistic and p-value are correct\"\"\"\n",
    "# Hidden tests"
   ]
  },
  {
   "cell_type": "markdown",
   "metadata": {},
   "source": [
    "## Part D (5 points)\n",
    "\n",
    "Based on the `post_rating` observations, perform a sample-size calculation to determine the minimum number of subjects that are needed for detecting difference in means between the treament and the control groups. Assume $\\alpha=0.05$ and $\\beta = 0.1$, and that the variances are the same for the treatment and control groups.\n",
    "\n",
    "The `solve_power` method of the `TTestIndPower` class provided by `statsmodels` can be used to solve this problem. You may want to carefully read its [documentation] (https://www.statsmodels.org/stable/generated/statsmodels.stats.power.TTestIndPower.solve_power.html#statsmodels.stats.power.TTestIndPower.solve_power) to understand how to use it. Use `TTestIndPower().solve_power` to call the function. Make sure to round up the number of observations by using math.ceil(....).\n",
    "\n",
    "You'd also need to understand the difference between *population* and *sample* standard deviation, and how to use `pd` functions to calculate either one."
   ]
  },
  {
   "cell_type": "code",
   "execution_count": 221,
   "metadata": {
    "collapsed": false,
    "jupyter": {
     "outputs_hidden": false
    },
    "pycharm": {
     "name": "#%%\n"
    }
   },
   "outputs": [],
   "source": [
    "def power_calc(provided_data):\n",
    "    \"\"\"\n",
    "    Your function should return a named pd.Series, \"Power Analysis\", that contains the following fields:\n",
    "     - ctrl_mean: the mean for the control group\n",
    "     - trtm_mean: the mean for the treatment group\n",
    "     - pop_std: the population standard deviation for both the control and treatment groups (i.e., all records)\n",
    "     - num_obs: the minimum number of subjects required\n",
    "    \"\"\"\n",
    "    # YOUR CODE HERE\n",
    "    raise NotImplementedError()"
   ]
  },
  {
   "cell_type": "code",
   "execution_count": null,
   "metadata": {
    "collapsed": false,
    "jupyter": {
     "outputs_hidden": false
    },
    "pycharm": {
     "name": "#%%\n"
    }
   },
   "outputs": [],
   "source": [
    "# Check your result\n",
    "power_calc(movie_data)"
   ]
  },
  {
   "cell_type": "code",
   "execution_count": null,
   "metadata": {
    "collapsed": false,
    "jupyter": {
     "outputs_hidden": false
    },
    "pycharm": {
     "name": "#%%\n"
    }
   },
   "outputs": [],
   "source": [
    "# Visible tests\n",
    "\n",
    "stu_ans = power_calc(movie_data)\n",
    "\n",
    "assert isinstance(stu_ans, pd.Series), \"Part D: Your function should return a pd.Series. \"\n",
    "assert stu_ans.name == \"Power Analysis\", \"Part D: Your Series should be named correctly. \"\n",
    "assert list(stu_ans.index) == ['ctrl_mean', 'trtm_mean', 'pop_std', 'num_obs'], \"Part D: Your Series should have the correct indices. \"\n",
    "\n",
    "del stu_ans"
   ]
  },
  {
   "cell_type": "markdown",
   "metadata": {},
   "source": [
    "## part 4:\n",
    "- 1. Threats to Validity\n",
    "- 2. Instrumental Variables\n",
    "\n",
    "## Overview\n",
    "### The objective of this part is to:\n",
    "\n",
    "- Apply theory of experiment design and knowledge of analysis techniques to real experiment data.\n",
    "\n",
    "### Resources:\n",
    "- StatsModels\n",
    "    - We recommend using a python library called [StatsModels](https://www.statsmodels.org/stable/index.html) for data analysis\n",
    "\n",
    "\n",
    "- Dataset used in this part: Kiva Crowdsourcing Team data [view source files](https://www.openicpsr.org/openicpsr/project/100358/version/V2/view)\n",
    "    - Source for dataset: [Chen, Y., et al. Recommending teams promotes prosocial lending in online microfinance (2016).](https://www.pnas.org/content/113/52/14944)"
   ]
  },
  {
   "cell_type": "code",
   "execution_count": 361,
   "metadata": {
    "collapsed": false,
    "jupyter": {
     "outputs_hidden": false
    },
    "pycharm": {
     "name": "#%%\n"
    },
    "tags": []
   },
   "outputs": [],
   "source": [
    "import pandas as pd\n",
    "import numpy as np\n",
    "import statsmodels.api as sm\n",
    "from linearmodels.iv import IV2SLS #you may get a deprecation warning for this library -- this is fine.\n",
    "\n",
    "data = pd.read_csv('assets/Part4_data.csv', nrows=100) #Data for this part"
   ]
  },
  {
   "cell_type": "code",
   "execution_count": 362,
   "metadata": {
    "collapsed": false,
    "jupyter": {
     "outputs_hidden": false
    },
    "pycharm": {
     "name": "#%%\n"
    }
   },
   "outputs": [
    {
     "name": "stdout",
     "output_type": "stream",
     "text": [
      "### Assignment Topic: Data analysis of a field experiment on Kiva\n",
      "\n",
      "### Background:\n",
      "\n",
      "We upload data files from a field experiment conducted by the University of Michigan on the Kiva platform. They are in csv format to import into the Jupyter Notebook.\n",
      "\n",
      "### Data:\n",
      "\n",
      "The data file contains eight variables for 64,800 subjects. Below are descriptions of each field in the file:\n",
      "\n",
      "    - shuffled_lender_id: a de-identified identifier to represent unique subjects.\n",
      "    \n",
      "    - treatment_id: the type of treatment the subjects received as part of the experiment.\n",
      "    \n",
      "        1. No-Contact\n",
      "        \n",
      "        2. Team-Exist\n",
      "        \n",
      "        3. Location-Explanation\n",
      "        \n",
      "        4. Location-NoExplanation\n",
      "        \n",
      "        5. History-Explanation\n",
      "        \n",
      "        6. History-NoExplanation\n",
      "        \n",
      "        7. Leaderboard-Explanation\n",
      "        \n",
      "        8. Leaderboard-NoExplanation\n",
      "        \n",
      "    - join: Whether a lender joined a team after the experiment.\n",
      "    \n",
      "    - join_rec: Whether a lender joined a recommended team after the experiment.\n",
      "    \n",
      "    - opened: Whether a lender opened our email.\n",
      "    \n",
      "    - amt_diff_1d: The per-day differences in the amount of the loan (in US dollars) the lenders lent in 1 day before and after the experiment, positive number indicates the lender lent more money in 1 day after the experiment. A difference of -10 in the data would mean the subject lent $10 less per-day over 1 day after the experiment started than before ($10 less total).\n",
      "    \n",
      "    - amt_diff_7d: Similar as amt_diff_1d, but the per-day differences are calculated in 7 day window. A difference of -10 in the data would mean the subject lent $10 less per-day over 7 days after the experiment started than before ($70 less total).\n",
      "    \n",
      "    - amt_diff_30d: Similar as amt_diff_1d, but the per-day differences are calculated in 30 day window. A difference of -5 in the data would mean the subject lent $5 less per-day over 7 days after the experiment started than before ($150 less total).\n"
     ]
    },
    {
     "data": {
      "text/html": [
       "<div>\n",
       "<style scoped>\n",
       "    .dataframe tbody tr th:only-of-type {\n",
       "        vertical-align: middle;\n",
       "    }\n",
       "\n",
       "    .dataframe tbody tr th {\n",
       "        vertical-align: top;\n",
       "    }\n",
       "\n",
       "    .dataframe thead th {\n",
       "        text-align: right;\n",
       "    }\n",
       "</style>\n",
       "<table border=\"1\" class=\"dataframe\">\n",
       "  <thead>\n",
       "    <tr style=\"text-align: right;\">\n",
       "      <th></th>\n",
       "      <th>shuffled_lender_id</th>\n",
       "      <th>treatment_id</th>\n",
       "      <th>join</th>\n",
       "      <th>join_rec</th>\n",
       "      <th>opened</th>\n",
       "      <th>amt_diff_1d</th>\n",
       "      <th>amt_diff_7d</th>\n",
       "      <th>amt_diff_30d</th>\n",
       "    </tr>\n",
       "  </thead>\n",
       "  <tbody>\n",
       "    <tr>\n",
       "      <th>0</th>\n",
       "      <td>0</td>\n",
       "      <td>7</td>\n",
       "      <td>0</td>\n",
       "      <td>0</td>\n",
       "      <td>1</td>\n",
       "      <td>0.0</td>\n",
       "      <td>0.0</td>\n",
       "      <td>-50.0</td>\n",
       "    </tr>\n",
       "    <tr>\n",
       "      <th>1</th>\n",
       "      <td>1</td>\n",
       "      <td>3</td>\n",
       "      <td>0</td>\n",
       "      <td>0</td>\n",
       "      <td>1</td>\n",
       "      <td>0.0</td>\n",
       "      <td>0.0</td>\n",
       "      <td>0.0</td>\n",
       "    </tr>\n",
       "    <tr>\n",
       "      <th>2</th>\n",
       "      <td>2</td>\n",
       "      <td>4</td>\n",
       "      <td>0</td>\n",
       "      <td>0</td>\n",
       "      <td>1</td>\n",
       "      <td>0.0</td>\n",
       "      <td>0.0</td>\n",
       "      <td>0.0</td>\n",
       "    </tr>\n",
       "    <tr>\n",
       "      <th>3</th>\n",
       "      <td>3</td>\n",
       "      <td>2</td>\n",
       "      <td>0</td>\n",
       "      <td>0</td>\n",
       "      <td>0</td>\n",
       "      <td>0.0</td>\n",
       "      <td>0.0</td>\n",
       "      <td>0.0</td>\n",
       "    </tr>\n",
       "    <tr>\n",
       "      <th>4</th>\n",
       "      <td>4</td>\n",
       "      <td>5</td>\n",
       "      <td>0</td>\n",
       "      <td>0</td>\n",
       "      <td>0</td>\n",
       "      <td>0.0</td>\n",
       "      <td>0.0</td>\n",
       "      <td>0.0</td>\n",
       "    </tr>\n",
       "  </tbody>\n",
       "</table>\n",
       "</div>"
      ],
      "text/plain": [
       "   shuffled_lender_id  treatment_id  join  join_rec  opened  amt_diff_1d  \\\n",
       "0                   0             7     0         0       1          0.0   \n",
       "1                   1             3     0         0       1          0.0   \n",
       "2                   2             4     0         0       1          0.0   \n",
       "3                   3             2     0         0       0          0.0   \n",
       "4                   4             5     0         0       0          0.0   \n",
       "\n",
       "   amt_diff_7d  amt_diff_30d  \n",
       "0          0.0         -50.0  \n",
       "1          0.0           0.0  \n",
       "2          0.0           0.0  \n",
       "3          0.0           0.0  \n",
       "4          0.0           0.0  "
      ]
     },
     "execution_count": 362,
     "metadata": {},
     "output_type": "execute_result"
    }
   ],
   "source": [
    "#uncomment the below line to view readme files for this dataset (includes explanation of variable names)\n",
    "!cat assets/Part4_data_readme.md\n",
    "\n",
    "#uncomment the below line to view snippet of csv file\n",
    "data.head()"
   ]
  },
  {
   "cell_type": "markdown",
   "metadata": {
    "pycharm": {
     "name": "#%% md\n"
    }
   },
   "source": [
    "## Part A (15 points)\n",
    "\n",
    "We want to assess the effectiveness of joining a team on Kiva -- specifically, what impact joining a team has on donations. Using the variable indicating whether users have joined a team (```join```) and the differences in donations made over a certain period (```amt_diff_1d```, ```amt_diff_7d```, ```amt_diff_30d```), we can find if joining a team has impact on donations. However, variables that determine whether subjects join a team may also affect the amount they donate since we only inform subjects about joining a team.\n",
    "\n",
    "In this case, our instrumental variable is whether the subjects were sent an e-mail to inform about the team functionality on Kiva.\n",
    "\n",
    "***Before you go on, recall from lecture the requirements an instrumental variable must satisfy - you will be investigating these requirements in this notebook.***"
   ]
  },
  {
   "cell_type": "markdown",
   "metadata": {},
   "source": [
    "1. To get started, we need to create the instrumental variable. Add a new column named ```email``` in the dataframe. The value for ```email``` should be ```1``` if users received an e-mail as part of their treatment group (```treatment_id``` != 1), and ```0``` if they did not (```treatment_id``` = 1). (2 points)"
   ]
  },
  {
   "cell_type": "code",
   "execution_count": 363,
   "metadata": {
    "collapsed": false,
    "jupyter": {
     "outputs_hidden": false
    },
    "pycharm": {
     "name": "#%%\n"
    }
   },
   "outputs": [],
   "source": [
    "data.rename(columns={'join': 'join_any'}, inplace=True) #since join is also the name of a pandas method, we rename the column to avoid confusion\n",
    "data['email'] = (data['treatment_id'] != 1).astype(int)\n",
    "# raise NotImplementedError()"
   ]
  },
  {
   "cell_type": "code",
   "execution_count": 364,
   "metadata": {
    "collapsed": false,
    "jupyter": {
     "outputs_hidden": false
    },
    "pycharm": {
     "name": "#%%\n"
    }
   },
   "outputs": [],
   "source": [
    "assert pd.notnull(data['email'].all()), \"email column must contain either 0 or 1\""
   ]
  },
  {
   "cell_type": "code",
   "execution_count": 365,
   "metadata": {
    "collapsed": false,
    "jupyter": {
     "outputs_hidden": false
    },
    "pycharm": {
     "name": "#%%\n"
    }
   },
   "outputs": [],
   "source": [
    "assert data.loc[data['treatment_id'] != 1,'email'].all() == 1, \"all treatments except treatment 1 received an email\"\n",
    "assert data.loc[data['treatment_id'] == 1,'email'].all() == 0, \"all treatments except treatment 1 received an email\""
   ]
  },
  {
   "cell_type": "markdown",
   "metadata": {},
   "source": [
    "2. Next, we will create a constant, equal to 1. Add a column in the dataframe called ```const```. (1 point)"
   ]
  },
  {
   "cell_type": "code",
   "execution_count": 366,
   "metadata": {
    "collapsed": false,
    "jupyter": {
     "outputs_hidden": false
    },
    "pycharm": {
     "name": "#%%\n"
    }
   },
   "outputs": [],
   "source": [
    "# YOUR CODE HERE\n",
    "# raise NotImplementedError()\n",
    "\n",
    "data['const'] = 1"
   ]
  },
  {
   "cell_type": "code",
   "execution_count": 367,
   "metadata": {
    "collapsed": false,
    "jupyter": {
     "outputs_hidden": false
    },
    "pycharm": {
     "name": "#%%\n"
    }
   },
   "outputs": [],
   "source": [
    "assert data['const'].all() == 1, \"the constant value should be 1\""
   ]
  },
  {
   "cell_type": "markdown",
   "metadata": {},
   "source": [
    "In lecture, the 2-stage least squares model was used. Now, let’s follow the steps indicated in lecture to create this model to measure the effect described above. First, we need to estimate the effect of e-mailing users to join a team on whether they join a team."
   ]
  },
  {
   "cell_type": "markdown",
   "metadata": {},
   "source": [
    "3. Using statsmodels, create an ordinary least squares regression model that does this. Fit the model and store it in the variable: ```model_fs```. Using the predict method from ```model_fs```, store the predicted values in a new column in your dataframe called ```predicted_join```. Recall from lecture that since we have created this new variable, we can estimate the effect of joining a team on lending amounts without worrying about the effect of potential unobserved or missing variables. (4 points)\n",
    "\n",
    "Note: ensure your model has a constant."
   ]
  },
  {
   "cell_type": "code",
   "execution_count": 368,
   "metadata": {
    "collapsed": false,
    "jupyter": {
     "outputs_hidden": false
    },
    "pycharm": {
     "name": "#%%\n"
    }
   },
   "outputs": [],
   "source": [
    "def email_join_ols(provided_data):\n",
    "    # YOUR CODE HERE\n",
    "    # raise NotImplementedError()\n"
   ]
  },
  {
   "cell_type": "markdown",
   "metadata": {},
   "source": [
    "Your function should return a dataframe with the correct values and columns. Check that it does:"
   ]
  },
  {
   "cell_type": "code",
   "execution_count": 370,
   "metadata": {
    "collapsed": false,
    "jupyter": {
     "outputs_hidden": false
    },
    "pycharm": {
     "name": "#%%\n"
    }
   },
   "outputs": [],
   "source": [
    "assert 'predicted_join' in data, \"checking there is a column named predicted_join in data\""
   ]
  },
  {
   "cell_type": "code",
   "execution_count": 371,
   "metadata": {
    "collapsed": false,
    "jupyter": {
     "outputs_hidden": false
    },
    "pycharm": {
     "name": "#%%\n"
    }
   },
   "outputs": [
    {
     "data": {
      "text/plain": [
       "'checking the correct predicted_join values are present'"
      ]
     },
     "execution_count": 371,
     "metadata": {},
     "output_type": "execute_result"
    }
   ],
   "source": [
    "\"\"\"checking the correct predicted_join values are present\"\"\"\n",
    "# Hidden tests"
   ]
  },
  {
   "cell_type": "markdown",
   "metadata": {},
   "source": [
    "Now that we have the predicted values of whether a subject would be expected to join a team based on if they were e-mailed, we can move to the second stage."
   ]
  },
  {
   "cell_type": "markdown",
   "metadata": {},
   "source": [
    "4. In this stage, we will run the estimation of the effect of joining a team on the amount a subject lends. However, instead of using the ```join``` variable, we will use our new ```predicted_join``` variable. Using statsmodels again, and ensuring your model has a constant, create three ordinary least squares regression models which estimate the effect of the prediction of users joining a team on the following:"
   ]
  },
  {
   "cell_type": "markdown",
   "metadata": {},
   "source": [
    "a. ```amt_diff_1d```, storing the fitted model in ```model_1d``` (3 points)"
   ]
  },
  {
   "cell_type": "code",
   "execution_count": 372,
   "metadata": {
    "collapsed": false,
    "jupyter": {
     "outputs_hidden": false
    },
    "pycharm": {
     "name": "#%%\n"
    }
   },
   "outputs": [],
   "source": [
    "def pred_join_amt_1d(provided_data):\n",
    "    X = sm.add_constant(provided_data[['predicted_join', 'amt_diff_1d']].iloc[:])\n",
    "    model_1d = sm.OLS(provided_data['join_any'].iloc[:], X).fit()\n",
    "    return model_1d"
   ]
  },
  {
   "cell_type": "markdown",
   "metadata": {},
   "source": [
    "Your function should return a summary view of your results. Check that it does:"
   ]
  },
  {
   "cell_type": "code",
   "execution_count": 374,
   "metadata": {
    "collapsed": false,
    "jupyter": {
     "outputs_hidden": false
    },
    "pycharm": {
     "name": "#%%\n"
    }
   },
   "outputs": [
    {
     "data": {
      "text/plain": [
       "'checking your t-value is correct'"
      ]
     },
     "execution_count": 374,
     "metadata": {},
     "output_type": "execute_result"
    }
   ],
   "source": [
    "\"\"\"checking your t-value is correct\"\"\"\n",
    "# Hidden tests"
   ]
  },
  {
   "cell_type": "markdown",
   "metadata": {
    "jupyter": {
     "outputs_hidden": false
    },
    "pycharm": {
     "name": "#%%\n"
    }
   },
   "source": [
    "b. ```amt_diff_7d```, storing the fitted model in ```model_7d``` (3 points)"
   ]
  },
  {
   "cell_type": "markdown",
   "metadata": {
    "jupyter": {
     "outputs_hidden": false
    },
    "pycharm": {
     "name": "#%%\n"
    }
   },
   "source": [
    "c. ```amt_diff_30d```, storing the fitted model in ```model_30d``` (2 points)"
   ]
  },
  {
   "cell_type": "markdown",
   "metadata": {},
   "source": [
    "Your function should return a summary view of your results. Check that it does:"
   ]
  },
  {
   "cell_type": "code",
   "execution_count": 382,
   "metadata": {
    "collapsed": false,
    "jupyter": {
     "outputs_hidden": false
    },
    "pycharm": {
     "name": "#%%\n"
    }
   },
   "outputs": [
    {
     "data": {
      "text/plain": [
       "'checking your t-value is correct'"
      ]
     },
     "execution_count": 382,
     "metadata": {},
     "output_type": "execute_result"
    }
   ],
   "source": [
    "\"\"\"checking your t-value is correct\"\"\"\n",
    "# Hidden tests"
   ]
  },
  {
   "cell_type": "markdown",
   "metadata": {},
   "source": [
    "## Part B (10 points)"
   ]
  },
  {
   "cell_type": "markdown",
   "metadata": {},
   "source": [
    "Now we have estimated the effect of joining a team on lending using instrumental variables! However, there is a more direct way to complete these two stages.\n",
    "\n",
    "Using the IV2SLS (Instrumental Variables 2-Stage Least Squares) function ([Documentation](https://bashtage.github.io/linearmodels/iv/iv/linearmodels.iv.model.IV2SLS.html)) in the linearmodels library will achieve everything we did above faster -- and it will more correctly estimate the standard errors."
   ]
  },
  {
   "cell_type": "markdown",
   "metadata": {},
   "source": [
    "1. First, let's make things simpler for ourselves. For this analysis, we will only need a dataframe with the following columns: ```email```, ```join_any```, ```amt_diff_1d```, ```amt_diff_7d```, ```amt_diff_30d```, and the ```const``` column you created above. (As in our other models, we need a constant included in the models we will be creating with IV2SLS.) (1 point)"
   ]
  },
  {
   "cell_type": "code",
   "execution_count": 383,
   "metadata": {
    "collapsed": false,
    "jupyter": {
     "outputs_hidden": false
    },
    "pycharm": {
     "name": "#%%\n"
    }
   },
   "outputs": [],
   "source": [
    "iv_dataframe = pd.DataFrame()\n",
    "iv_dataframe = data[['email', 'join_any', 'amt_diff_1d', 'amt_diff_7d', 'amt_diff_30d', 'const']]\n",
    "# YOUR CODE HERE\n",
    "# raise NotImplementedError()"
   ]
  },
  {
   "cell_type": "markdown",
   "metadata": {},
   "source": [
    "```iv_dataframe``` should yield a dataframe with the correct calculated, given, and new column and row values. Check that it does:"
   ]
  },
  {
   "cell_type": "code",
   "execution_count": 384,
   "metadata": {
    "collapsed": false,
    "jupyter": {
     "outputs_hidden": false
    },
    "pycharm": {
     "name": "#%%\n"
    }
   },
   "outputs": [
    {
     "data": {
      "text/html": [
       "<div>\n",
       "<style scoped>\n",
       "    .dataframe tbody tr th:only-of-type {\n",
       "        vertical-align: middle;\n",
       "    }\n",
       "\n",
       "    .dataframe tbody tr th {\n",
       "        vertical-align: top;\n",
       "    }\n",
       "\n",
       "    .dataframe thead th {\n",
       "        text-align: right;\n",
       "    }\n",
       "</style>\n",
       "<table border=\"1\" class=\"dataframe\">\n",
       "  <thead>\n",
       "    <tr style=\"text-align: right;\">\n",
       "      <th></th>\n",
       "      <th>email</th>\n",
       "      <th>join_any</th>\n",
       "      <th>amt_diff_1d</th>\n",
       "      <th>amt_diff_7d</th>\n",
       "      <th>amt_diff_30d</th>\n",
       "      <th>const</th>\n",
       "    </tr>\n",
       "  </thead>\n",
       "  <tbody>\n",
       "    <tr>\n",
       "      <th>0</th>\n",
       "      <td>1</td>\n",
       "      <td>0</td>\n",
       "      <td>0.0</td>\n",
       "      <td>0.0</td>\n",
       "      <td>-50.0</td>\n",
       "      <td>1</td>\n",
       "    </tr>\n",
       "    <tr>\n",
       "      <th>1</th>\n",
       "      <td>1</td>\n",
       "      <td>0</td>\n",
       "      <td>0.0</td>\n",
       "      <td>0.0</td>\n",
       "      <td>0.0</td>\n",
       "      <td>1</td>\n",
       "    </tr>\n",
       "    <tr>\n",
       "      <th>2</th>\n",
       "      <td>1</td>\n",
       "      <td>0</td>\n",
       "      <td>0.0</td>\n",
       "      <td>0.0</td>\n",
       "      <td>0.0</td>\n",
       "      <td>1</td>\n",
       "    </tr>\n",
       "    <tr>\n",
       "      <th>3</th>\n",
       "      <td>1</td>\n",
       "      <td>0</td>\n",
       "      <td>0.0</td>\n",
       "      <td>0.0</td>\n",
       "      <td>0.0</td>\n",
       "      <td>1</td>\n",
       "    </tr>\n",
       "    <tr>\n",
       "      <th>4</th>\n",
       "      <td>1</td>\n",
       "      <td>0</td>\n",
       "      <td>0.0</td>\n",
       "      <td>0.0</td>\n",
       "      <td>0.0</td>\n",
       "      <td>1</td>\n",
       "    </tr>\n",
       "  </tbody>\n",
       "</table>\n",
       "</div>"
      ],
      "text/plain": [
       "   email  join_any  amt_diff_1d  amt_diff_7d  amt_diff_30d  const\n",
       "0      1         0          0.0          0.0         -50.0      1\n",
       "1      1         0          0.0          0.0           0.0      1\n",
       "2      1         0          0.0          0.0           0.0      1\n",
       "3      1         0          0.0          0.0           0.0      1\n",
       "4      1         0          0.0          0.0           0.0      1"
      ]
     },
     "execution_count": 384,
     "metadata": {},
     "output_type": "execute_result"
    }
   ],
   "source": [
    "iv_dataframe.head()"
   ]
  },
  {
   "cell_type": "code",
   "execution_count": 385,
   "metadata": {
    "collapsed": false,
    "jupyter": {
     "outputs_hidden": false
    },
    "pycharm": {
     "name": "#%%\n"
    }
   },
   "outputs": [],
   "source": [
    "\"\"\"checking your dataframe columns are all present\"\"\"\n",
    "assert 'email' and 'join_any'and 'amt_diff_1d' and 'amt_diff_7d' and 'amt_diff_30d'and 'const' in iv_dataframe"
   ]
  },
  {
   "cell_type": "markdown",
   "metadata": {},
   "source": [
    "After looking over the documentation of the IV2SLS function, create and fit three models (with the three lending measurement periods used in number 3) that estimate the effect of joining a team on lending amounts considering the instrument of emailing subjects about joining a team.\n",
    "\n",
    "According to the [linearmodels IV2SLS documentation](https://bashtage.github.io/linearmodels/iv/iv/linearmodels.iv.model.IV2SLS.html), you will need to provide a given set of parameters to the function in order to create the model. The dependent variables and instruments are straightforward, but what are exogenous and endogenous regressors?\n",
    "\n",
    "An exogenous regressor does not co-vary with the model’s random error while an endogenous regressor does. In our model’s case, we know the ```join_any``` variable co-varies with the random error while ```const``` cannot (since it is a constant!)."
   ]
  },
  {
   "cell_type": "markdown",
   "metadata": {},
   "source": [
    "2. Create and fit the model for the first lending measurement period, the period referred to in ```amt_diff_1d``` (3 points)"
   ]
  },
  {
   "cell_type": "code",
   "execution_count": 394,
   "metadata": {
    "collapsed": false,
    "jupyter": {
     "outputs_hidden": false
    },
    "pycharm": {
     "name": "#%%\n"
    }
   },
   "outputs": [],
   "source": [
    "def iv_model_1d(provided_data):\n",
    "\n",
    "    \"\"\" Take some time to think about what exactly you're modeling here, then read the linearmodels documentation.\n",
    "    What is the instrument? What is the dependent variable, what are the endogenous and exogenous regressors?\n",
    "    Tip: the covariance should be unadjusted in this model, (and your following models)\n",
    "    \"\"\"\n",
    "    # iv_result_1d = your code here\n",
    "    # YOUR CODE HERE\n"
   ]
  },
  {
   "cell_type": "markdown",
   "metadata": {},
   "source": [
    "Your function should return a summary view of your results. Check that it does:"
   ]
  },
  {
   "cell_type": "code",
   "execution_count": 395,
   "metadata": {
    "collapsed": false,
    "jupyter": {
     "outputs_hidden": false
    },
    "pycharm": {
     "name": "#%%\n"
    }
   },
   "outputs": [
    {
     "data": {
      "text/html": [
       "<table class=\"simpletable\">\n",
       "<caption>IV-2SLS Estimation Summary</caption>\n",
       "<tr>\n",
       "  <th>Dep. Variable:</th>        <td>dependent</td>    <th>  R-squared:         </th> <td>0.0015</td> \n",
       "</tr>\n",
       "<tr>\n",
       "  <th>Estimator:</th>             <td>IV-2SLS</td>     <th>  Adj. R-squared:    </th> <td>-0.0087</td>\n",
       "</tr>\n",
       "<tr>\n",
       "  <th>No. Observations:</th>        <td>100</td>       <th>  F-statistic:       </th> <td>0.0102</td> \n",
       "</tr>\n",
       "<tr>\n",
       "  <th>Date:</th>             <td>Mon, Oct 31 2022</td> <th>  P-value (F-stat)   </th> <td>0.9195</td> \n",
       "</tr>\n",
       "<tr>\n",
       "  <th>Time:</th>                 <td>17:30:16</td>     <th>  Distribution:      </th> <td>chi2(1)</td>\n",
       "</tr>\n",
       "<tr>\n",
       "  <th>Cov. Estimator:</th>      <td>unadjusted</td>    <th>                     </th>    <td></td>    \n",
       "</tr>\n",
       "<tr>\n",
       "  <th></th>                          <td></td>         <th>                     </th>    <td></td>    \n",
       "</tr>\n",
       "</table>\n",
       "<table class=\"simpletable\">\n",
       "<caption>Parameter Estimates</caption>\n",
       "<tr>\n",
       "    <td></td>     <th>Parameter</th> <th>Std. Err.</th>  <th>T-stat</th>   <th>P-value</th> <th>Lower CI</th> <th>Upper CI</th>\n",
       "</tr>\n",
       "<tr>\n",
       "  <th>const</th> <td>-3.331e-16</td>  <td>0.0994</td>   <td>-3.35e-15</td> <td>1.0000</td>   <td>-0.1949</td>  <td>0.1949</td> \n",
       "</tr>\n",
       "<tr>\n",
       "  <th>email</th>   <td>0.0115</td>    <td>0.1137</td>    <td>0.1011</td>   <td>0.9195</td>   <td>-0.2114</td>  <td>0.2344</td> \n",
       "</tr>\n",
       "</table><br/><br/>Endogenous: email<br/>Instruments: amt_diff_1d<br/>Unadjusted Covariance (Homoskedastic)<br/>Debiased: False<br/>id: 0x13617fa60"
      ],
      "text/plain": [
       "                          IV-2SLS Estimation Summary                          \n",
       "==============================================================================\n",
       "Dep. Variable:              dependent   R-squared:                      0.0015\n",
       "Estimator:                    IV-2SLS   Adj. R-squared:                -0.0087\n",
       "No. Observations:                 100   F-statistic:                    0.0102\n",
       "Date:                Mon, Oct 31 2022   P-value (F-stat)                0.9195\n",
       "Time:                        17:30:16   Distribution:                  chi2(1)\n",
       "Cov. Estimator:            unadjusted                                         \n",
       "                                                                              \n",
       "                             Parameter Estimates                              \n",
       "==============================================================================\n",
       "            Parameter  Std. Err.     T-stat    P-value    Lower CI    Upper CI\n",
       "------------------------------------------------------------------------------\n",
       "const      -3.331e-16     0.0994  -3.35e-15     1.0000     -0.1949      0.1949\n",
       "email          0.0115     0.1137     0.1011     0.9195     -0.2114      0.2344\n",
       "==============================================================================\n",
       "\n",
       "Endogenous: email\n",
       "Instruments: amt_diff_1d\n",
       "Unadjusted Covariance (Homoskedastic)\n",
       "Debiased: False\n",
       "IVResults, id: 0x13617fa60"
      ]
     },
     "execution_count": 395,
     "metadata": {},
     "output_type": "execute_result"
    }
   ],
   "source": [
    "iv_model_1d(iv_dataframe)"
   ]
  },
  {
   "cell_type": "code",
   "execution_count": 397,
   "metadata": {
    "collapsed": false,
    "jupyter": {
     "outputs_hidden": false
    },
    "pycharm": {
     "name": "#%%\n"
    }
   },
   "outputs": [
    {
     "data": {
      "text/plain": [
       "'checking your 1d model has an unadjusted covariance and your p-value is correct'"
      ]
     },
     "execution_count": 397,
     "metadata": {},
     "output_type": "execute_result"
    }
   ],
   "source": [
    "\"\"\"checking your 1d model has an unadjusted covariance and your p-value is correct\"\"\"\n",
    "# Hidden tests"
   ]
  },
  {
   "cell_type": "markdown",
   "metadata": {},
   "source": [
    "3. Create and fit the model for the first lending measurement period, the period referred to in ```amt_diff_7d``` (3 points)"
   ]
  },
  {
   "cell_type": "code",
   "execution_count": 400,
   "metadata": {
    "collapsed": false,
    "jupyter": {
     "outputs_hidden": false
    },
    "pycharm": {
     "name": "#%%\n"
    }
   },
   "outputs": [],
   "source": [
    "def iv_model_7d(provided_data):\n",
    "    # YOUR CODE HERE\n",
    "    iv_result_7d = IV2SLS(provided_data['join_any'].iloc[:].values,\n",
    "                       provided_data[['const']], provided_data[['email']],\n",
    "                          provided_data[['amt_diff_7d']],\n",
    "                         ).fit(cov_type=\"unadjusted\")\n",
    "    return iv_result_7d"
   ]
  },
  {
   "cell_type": "markdown",
   "metadata": {},
   "source": [
    "Your function should return a summary view of your results. Check that it does:"
   ]
  },
  {
   "cell_type": "code",
   "execution_count": 401,
   "metadata": {
    "collapsed": false,
    "jupyter": {
     "outputs_hidden": false
    },
    "pycharm": {
     "name": "#%%\n"
    }
   },
   "outputs": [
    {
     "data": {
      "text/html": [
       "<table class=\"simpletable\">\n",
       "<caption>IV-2SLS Estimation Summary</caption>\n",
       "<tr>\n",
       "  <th>Dep. Variable:</th>        <td>dependent</td>    <th>  R-squared:         </th> <td>-13.461</td>\n",
       "</tr>\n",
       "<tr>\n",
       "  <th>Estimator:</th>             <td>IV-2SLS</td>     <th>  Adj. R-squared:    </th> <td>-13.609</td>\n",
       "</tr>\n",
       "<tr>\n",
       "  <th>No. Observations:</th>        <td>100</td>       <th>  F-statistic:       </th> <td>0.0018</td> \n",
       "</tr>\n",
       "<tr>\n",
       "  <th>Date:</th>             <td>Mon, Oct 31 2022</td> <th>  P-value (F-stat)   </th> <td>0.9662</td> \n",
       "</tr>\n",
       "<tr>\n",
       "  <th>Time:</th>                 <td>17:31:39</td>     <th>  Distribution:      </th> <td>chi2(1)</td>\n",
       "</tr>\n",
       "<tr>\n",
       "  <th>Cov. Estimator:</th>      <td>unadjusted</td>    <th>                     </th>    <td></td>    \n",
       "</tr>\n",
       "<tr>\n",
       "  <th></th>                          <td></td>         <th>                     </th>    <td></td>    \n",
       "</tr>\n",
       "</table>\n",
       "<table class=\"simpletable\">\n",
       "<caption>Parameter Estimates</caption>\n",
       "<tr>\n",
       "    <td></td>    <th>Parameter</th> <th>Std. Err.</th> <th>T-stat</th>  <th>P-value</th> <th>Lower CI</th> <th>Upper CI</th>\n",
       "</tr>\n",
       "<tr>\n",
       "  <th>const</th>  <td>0.9444</td>    <td>22.033</td>   <td>0.0429</td>  <td>0.9658</td>   <td>-42.240</td>  <td>44.129</td> \n",
       "</tr>\n",
       "<tr>\n",
       "  <th>email</th>  <td>-1.0741</td>   <td>25.326</td>   <td>-0.0424</td> <td>0.9662</td>   <td>-50.712</td>  <td>48.563</td> \n",
       "</tr>\n",
       "</table><br/><br/>Endogenous: email<br/>Instruments: amt_diff_7d<br/>Unadjusted Covariance (Homoskedastic)<br/>Debiased: False<br/>id: 0x136187f40"
      ],
      "text/plain": [
       "                          IV-2SLS Estimation Summary                          \n",
       "==============================================================================\n",
       "Dep. Variable:              dependent   R-squared:                     -13.461\n",
       "Estimator:                    IV-2SLS   Adj. R-squared:                -13.609\n",
       "No. Observations:                 100   F-statistic:                    0.0018\n",
       "Date:                Mon, Oct 31 2022   P-value (F-stat)                0.9662\n",
       "Time:                        17:31:39   Distribution:                  chi2(1)\n",
       "Cov. Estimator:            unadjusted                                         \n",
       "                                                                              \n",
       "                             Parameter Estimates                              \n",
       "==============================================================================\n",
       "            Parameter  Std. Err.     T-stat    P-value    Lower CI    Upper CI\n",
       "------------------------------------------------------------------------------\n",
       "const          0.9444     22.033     0.0429     0.9658     -42.240      44.129\n",
       "email         -1.0741     25.326    -0.0424     0.9662     -50.712      48.563\n",
       "==============================================================================\n",
       "\n",
       "Endogenous: email\n",
       "Instruments: amt_diff_7d\n",
       "Unadjusted Covariance (Homoskedastic)\n",
       "Debiased: False\n",
       "IVResults, id: 0x136187f40"
      ]
     },
     "execution_count": 401,
     "metadata": {},
     "output_type": "execute_result"
    }
   ],
   "source": [
    "iv_model_7d(iv_dataframe)"
   ]
  },
  {
   "cell_type": "code",
   "execution_count": null,
   "metadata": {
    "collapsed": false,
    "jupyter": {
     "outputs_hidden": false
    },
    "pycharm": {
     "name": "#%%\n"
    }
   },
   "outputs": [],
   "source": [
    "\"\"\"checking your 7d model has an unadjusted covariance and your p-value is correct\"\"\"\n",
    "# Hidden tests"
   ]
  },
  {
   "cell_type": "markdown",
   "metadata": {},
   "source": [
    "4. Create and fit the model for the first lending measurement period, the period referred to in ```amt_diff_30d``` (3 points)"
   ]
  },
  {
   "cell_type": "code",
   "execution_count": 402,
   "metadata": {
    "collapsed": false,
    "jupyter": {
     "outputs_hidden": false
    },
    "pycharm": {
     "name": "#%%\n"
    }
   },
   "outputs": [],
   "source": [
    "def iv_model_30d(provided_data):\n",
    "    # YOUR CODE HERE\n",
    "    iv_result_30d = IV2SLS(provided_data['join_any'].iloc[:].values,\n",
    "                       provided_data[['const']], provided_data[['email']],\n",
    "                          provided_data[['amt_diff_30d']],\n",
    "                         ).fit(cov_type=\"unadjusted\")\n",
    "    return iv_result_30d"
   ]
  },
  {
   "cell_type": "markdown",
   "metadata": {},
   "source": [
    "Your function should return a summary view of your results. Check that it does:"
   ]
  },
  {
   "cell_type": "code",
   "execution_count": 403,
   "metadata": {
    "collapsed": false,
    "jupyter": {
     "outputs_hidden": false
    },
    "pycharm": {
     "name": "#%%\n"
    }
   },
   "outputs": [
    {
     "data": {
      "text/html": [
       "<table class=\"simpletable\">\n",
       "<caption>IV-2SLS Estimation Summary</caption>\n",
       "<tr>\n",
       "  <th>Dep. Variable:</th>        <td>dependent</td>    <th>  R-squared:         </th> <td>-0.0040</td>\n",
       "</tr>\n",
       "<tr>\n",
       "  <th>Estimator:</th>             <td>IV-2SLS</td>     <th>  Adj. R-squared:    </th> <td>-0.0143</td>\n",
       "</tr>\n",
       "<tr>\n",
       "  <th>No. Observations:</th>        <td>100</td>       <th>  F-statistic:       </th> <td>0.0005</td> \n",
       "</tr>\n",
       "<tr>\n",
       "  <th>Date:</th>             <td>Mon, Oct 31 2022</td> <th>  P-value (F-stat)   </th> <td>0.9820</td> \n",
       "</tr>\n",
       "<tr>\n",
       "  <th>Time:</th>                 <td>17:32:07</td>     <th>  Distribution:      </th> <td>chi2(1)</td>\n",
       "</tr>\n",
       "<tr>\n",
       "  <th>Cov. Estimator:</th>      <td>unadjusted</td>    <th>                     </th>    <td></td>    \n",
       "</tr>\n",
       "<tr>\n",
       "  <th></th>                          <td></td>         <th>                     </th>    <td></td>    \n",
       "</tr>\n",
       "</table>\n",
       "<table class=\"simpletable\">\n",
       "<caption>Parameter Estimates</caption>\n",
       "<tr>\n",
       "    <td></td>    <th>Parameter</th> <th>Std. Err.</th> <th>T-stat</th>  <th>P-value</th> <th>Lower CI</th> <th>Upper CI</th>\n",
       "</tr>\n",
       "<tr>\n",
       "  <th>const</th>  <td>-0.0191</td>   <td>1.2933</td>   <td>-0.0148</td> <td>0.9882</td>   <td>-2.5539</td>  <td>2.5156</td> \n",
       "</tr>\n",
       "<tr>\n",
       "  <th>email</th>  <td>0.0335</td>    <td>1.4865</td>   <td>0.0225</td>  <td>0.9820</td>   <td>-2.8799</td>  <td>2.9469</td> \n",
       "</tr>\n",
       "</table><br/><br/>Endogenous: email<br/>Instruments: amt_diff_30d<br/>Unadjusted Covariance (Homoskedastic)<br/>Debiased: False<br/>id: 0x13617b6d0"
      ],
      "text/plain": [
       "                          IV-2SLS Estimation Summary                          \n",
       "==============================================================================\n",
       "Dep. Variable:              dependent   R-squared:                     -0.0040\n",
       "Estimator:                    IV-2SLS   Adj. R-squared:                -0.0143\n",
       "No. Observations:                 100   F-statistic:                    0.0005\n",
       "Date:                Mon, Oct 31 2022   P-value (F-stat)                0.9820\n",
       "Time:                        17:32:07   Distribution:                  chi2(1)\n",
       "Cov. Estimator:            unadjusted                                         \n",
       "                                                                              \n",
       "                             Parameter Estimates                              \n",
       "==============================================================================\n",
       "            Parameter  Std. Err.     T-stat    P-value    Lower CI    Upper CI\n",
       "------------------------------------------------------------------------------\n",
       "const         -0.0191     1.2933    -0.0148     0.9882     -2.5539      2.5156\n",
       "email          0.0335     1.4865     0.0225     0.9820     -2.8799      2.9469\n",
       "==============================================================================\n",
       "\n",
       "Endogenous: email\n",
       "Instruments: amt_diff_30d\n",
       "Unadjusted Covariance (Homoskedastic)\n",
       "Debiased: False\n",
       "IVResults, id: 0x13617b6d0"
      ]
     },
     "execution_count": 403,
     "metadata": {},
     "output_type": "execute_result"
    }
   ],
   "source": [
    "iv_model_30d(iv_dataframe)"
   ]
  },
  {
   "cell_type": "code",
   "execution_count": 404,
   "metadata": {
    "collapsed": false,
    "jupyter": {
     "outputs_hidden": false
    },
    "pycharm": {
     "name": "#%%\n"
    }
   },
   "outputs": [
    {
     "data": {
      "text/plain": [
       "'checking your 30d model has an unadjusted covariance and your p-value is correct'"
      ]
     },
     "execution_count": 404,
     "metadata": {},
     "output_type": "execute_result"
    }
   ],
   "source": [
    "\"\"\"checking your 30d model has an unadjusted covariance and your p-value is correct\"\"\"\n",
    "# Hidden tests"
   ]
  },
  {
   "cell_type": "code",
   "execution_count": null,
   "metadata": {},
   "outputs": [],
   "source": []
  }
 ],
 "metadata": {
  "coursera": {
   "schema_names": [
    "mads_experiment_design_and_analysis_v4_assignment1"
   ]
  },
  "kernelspec": {
   "display_name": "Python 3 (ipykernel)",
   "language": "python",
   "name": "python3"
  },
  "language_info": {
   "codemirror_mode": {
    "name": "ipython",
    "version": 3
   },
   "file_extension": ".py",
   "mimetype": "text/x-python",
   "name": "python",
   "nbconvert_exporter": "python",
   "pygments_lexer": "ipython3",
   "version": "3.10.6"
  },
  "widgets": {
   "application/vnd.jupyter.widget-state+json": {
    "state": {},
    "version_major": 2,
    "version_minor": 0
   }
  }
 },
 "nbformat": 4,
 "nbformat_minor": 4
}
